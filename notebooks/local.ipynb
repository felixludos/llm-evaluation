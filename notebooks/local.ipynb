{
 "cells": [
  {
   "cell_type": "code",
   "id": "initial_id",
   "metadata": {
    "collapsed": true
   },
   "source": [
    "import os\n",
    "from pathlib import Path\n",
    "from transformers import AutoTokenizer, GPT2Model, AutoModelForCausalLM, AutoTokenizer, TextStreamer, BitsAndBytesConfig\n",
    "import torch\n",
    "device = 'cuda' # 'cpu'\n",
    "torch.set_default_device(device)\n",
    "os.environ['HF_HOME'] = '~/workspace/local_data/huggingface_cache/'"
   ],
   "outputs": [],
   "execution_count": null
  },
  {
   "cell_type": "code",
   "id": "a260a24f",
   "metadata": {},
   "source": [
    "quantization_config = BitsAndBytesConfig(load_in_4bit=True)\n",
    "quantization_config = BitsAndBytesConfig(load_in_8bit=True)\n",
    "\n",
    "model_id = 'mistralai/Mistral-7B-Instruct-v0.2'\n",
    "model_id = 'google/gemma-2b-it'\n",
    "model_id = 'apple/OpenELM-3B-Instruct'\n",
    "\n",
    "tokenizer = AutoTokenizer.from_pretrained(model_id, \n",
    "                                             trust_remote_code=True,)\n",
    "model = AutoModelForCausalLM.from_pretrained(model_id, \n",
    "                                             device_map=\"auto\", \n",
    "                                             torch_dtype=torch.bfloat16, \n",
    "                                             trust_remote_code=True,\n",
    "                                            #  quantization_config=quantization_config\n",
    "                                             )"
   ],
   "outputs": [],
   "execution_count": null
  },
  {
   "cell_type": "code",
   "id": "d8170c73",
   "metadata": {},
   "source": [
    "input_text = \"Write me a poem about Machine Learning.\"\n",
    "input_ids = tokenizer(input_text, return_tensors=\"pt\")\n",
    "streamer = TextStreamer(tokenizer, skip_prompt=True)\n",
    "with torch.no_grad():\n",
    "# Despite returning the usual output, the streamer will also print the generated text to stdout.\n",
    "    _ = model.generate(**input_ids, streamer=streamer, max_new_tokens=100)"
   ],
   "outputs": [],
   "execution_count": null
  }
 ],
 "metadata": {
  "kernelspec": {
   "display_name": "Python 3",
   "language": "python",
   "name": "python3"
  },
  "language_info": {
   "codemirror_mode": {
    "name": "ipython",
    "version": 2
   },
   "file_extension": ".py",
   "mimetype": "text/x-python",
   "name": "python",
   "nbconvert_exporter": "python",
   "pygments_lexer": "ipython2",
   "version": "2.7.6"
  }
 },
 "nbformat": 4,
 "nbformat_minor": 5
}
