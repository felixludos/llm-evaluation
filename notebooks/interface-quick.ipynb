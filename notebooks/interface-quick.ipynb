{
 "cells": [
  {
   "cell_type": "code",
   "execution_count": 29,
   "id": "initial_id",
   "metadata": {
    "collapsed": true,
    "ExecuteTime": {
     "end_time": "2024-03-07T15:49:51.050561503Z",
     "start_time": "2024-03-07T15:49:51.009504812Z"
    }
   },
   "outputs": [],
   "source": [
    "import requests\n",
    "from omnibelt import colorize"
   ]
  },
  {
   "cell_type": "code",
   "execution_count": 30,
   "id": "8af7fe2d0c3b9c7",
   "metadata": {
    "collapsed": false,
    "ExecuteTime": {
     "end_time": "2024-03-07T15:49:51.255909096Z",
     "start_time": "2024-03-07T15:49:51.249165490Z"
    }
   },
   "outputs": [],
   "source": [
    "base_url = 'http://localhost:8000'"
   ]
  },
  {
   "cell_type": "code",
   "execution_count": 31,
   "id": "be4a4b1134f8720c",
   "metadata": {
    "collapsed": false,
    "ExecuteTime": {
     "end_time": "2024-03-07T15:49:51.608862137Z",
     "start_time": "2024-03-07T15:49:51.563090411Z"
    }
   },
   "outputs": [
    {
     "data": {
      "text/plain": "'pong'"
     },
     "execution_count": 31,
     "metadata": {},
     "output_type": "execute_result"
    }
   ],
   "source": [
    "response = requests.get(f'{base_url}/ping')\n",
    "response.json()"
   ]
  },
  {
   "cell_type": "code",
   "outputs": [
    {
     "data": {
      "text/plain": "{'code': 1,\n 'status': {'is_done': True,\n  'is_running': False,\n  'current_time': '2024-03-07T16:51:27.197403',\n  'start_time': '2024-03-07T16:49:53.182672',\n  'finish_time': '2024-03-07T16:51:21.870737',\n  'duration': 88.688065,\n  'expected_duration': 85.0,\n  'expected_finish_time': '2024-03-07T16:51:18.182672',\n  'cpu_util': 4.575,\n  'ram_available': 48.80424118041992,\n  'ram_used': 1.555908203125,\n  'ram_used_since_start': 1.0934371948242188,\n  'gpu_available': 1.6229248046875,\n  'gpu_used': 4.802734375,\n  'gpu_util': 3.0,\n  'gpu_used_since_start': 4.802734375}}"
     },
     "execution_count": 34,
     "metadata": {},
     "output_type": "execute_result"
    }
   ],
   "source": [
    "resp = requests.get(f'{base_url}/load').json()\n",
    "resp"
   ],
   "metadata": {
    "collapsed": false,
    "ExecuteTime": {
     "end_time": "2024-03-07T15:51:28.234694573Z",
     "start_time": "2024-03-07T15:51:26.185711048Z"
    }
   },
   "id": "9cfb185c3c2bc656",
   "execution_count": 34
  },
  {
   "cell_type": "code",
   "outputs": [
    {
     "data": {
      "text/plain": "(77, 53)"
     },
     "execution_count": 47,
     "metadata": {},
     "output_type": "execute_result"
    }
   ],
   "source": [
    "text = 'Grace weighs 125 pounds. Alex weighs 2 pounds less than 4 times what Grace weighs. What are their combined weights in pounds?'\n",
    "text = ('Cynthia eats one serving of ice cream every night.  She buys cartons of ice cream with 15 servings of ice cream per carton at a cost of $4.00 per carton.  After 60 days, how much will she spend on ice cream?')\n",
    "\n",
    "data = dict(\n",
    "\tmax_new_tokens=300,\n",
    "\tdo_sample=True,\n",
    "\ttemperature=1.,\n",
    "\ttop_k=50,\n",
    "\ttop_p=0.95,\n",
    ")\n",
    "out = requests.post(f'{base_url}/generate?block=1', json={'text': text, **data}).json()\n",
    "response = out['response']\n",
    "# response = requests.post(f'{base_url}/generate?code={gen_id}&block=1').json()\n",
    "# gen_id, response is None\n",
    "response['inp_tok'], response['out_tok']"
   ],
   "metadata": {
    "collapsed": false,
    "ExecuteTime": {
     "end_time": "2024-03-07T15:56:35.772959306Z",
     "start_time": "2024-03-07T15:56:33.296618356Z"
    }
   },
   "id": "1f98002946e9c198",
   "execution_count": 47
  },
  {
   "cell_type": "code",
   "outputs": [
    {
     "name": "stdout",
     "output_type": "stream",
     "text": [
      "\u001B[94m<bos><start_of_turn>user\n",
      "Cynthia eats one serving of ice cream every night.  She buys cartons of ice cream with 15 servings of ice cream per carton at a cost of $4.00 per carton.  After 60 days, how much will she spend on ice cream? Take a deep breath and think step-by-step.<end_of_turn>\n",
      "<start_of_turn>model\n",
      "\u001B[0mThe number of servings is 15. The cost per carton is $4.00. The number of cartons is 60. So, the total cost is 15 x $4.00 = $60.00."
     ]
    }
   ],
   "source": [
    "print(colorize(response['prompt'], 'blue'),end='')\n",
    "print(response['response'],end='')"
   ],
   "metadata": {
    "collapsed": false,
    "ExecuteTime": {
     "end_time": "2024-03-07T15:56:35.821922564Z",
     "start_time": "2024-03-07T15:56:35.770591837Z"
    }
   },
   "id": "ab937fbf63e2660a",
   "execution_count": 48
  },
  {
   "cell_type": "code",
   "outputs": [
    {
     "name": "stdout",
     "output_type": "stream",
     "text": [
      "\u001B[94mGrace weighs 125 pounds. Alex weighs 2 pounds less than 4 times what Grace weighs. What are their combined weights in pounds?\u001B[0m\n",
      "\n",
      "Solution:\n",
      "Let's calculate Alex's weight first\n",
      "Alex's weight = 4 * Grace's weight - 2 = 4 * 125 - 2 = 493 pounds\n",
      "Now, let's calculate their combined weight\n",
      "Combined weight = Alex's weight + Grace's weight = 493 + 125 = 618 pounds\n"
     ]
    }
   ],
   "source": [
    "print(colorize(response['prompt'], 'blue'),end='')\n",
    "print(response['response'],end='')"
   ],
   "metadata": {
    "collapsed": false,
    "ExecuteTime": {
     "end_time": "2024-02-22T17:29:28.575472870Z",
     "start_time": "2024-02-22T17:29:28.571865014Z"
    }
   },
   "id": "db89f355521cee6f",
   "execution_count": 12
  },
  {
   "cell_type": "code",
   "outputs": [],
   "source": [],
   "metadata": {
    "collapsed": false
   },
   "id": "b757441bd062f4ed"
  },
  {
   "cell_type": "code",
   "outputs": [],
   "source": [],
   "metadata": {
    "collapsed": false
   },
   "id": "a1d05a5871c8c137"
  },
  {
   "cell_type": "code",
   "outputs": [
    {
     "data": {
      "text/plain": "1"
     },
     "execution_count": 5,
     "metadata": {},
     "output_type": "execute_result"
    }
   ],
   "source": [
    "response = requests.get(f'{base_url}/create?name=phi2')\n",
    "loader_id = response.json()\n",
    "loader_id"
   ],
   "metadata": {
    "collapsed": false,
    "ExecuteTime": {
     "end_time": "2024-02-22T17:08:24.192251258Z",
     "start_time": "2024-02-22T17:08:24.173707291Z"
    }
   },
   "id": "341f1b045890f285",
   "execution_count": 5
  },
  {
   "cell_type": "code",
   "outputs": [
    {
     "data": {
      "text/plain": "1"
     },
     "execution_count": 6,
     "metadata": {},
     "output_type": "execute_result"
    }
   ],
   "source": [
    "requests.get(f'{base_url}/start?code={loader_id}').json()"
   ],
   "metadata": {
    "collapsed": false,
    "ExecuteTime": {
     "end_time": "2024-02-22T17:08:26.369181091Z",
     "start_time": "2024-02-22T17:08:26.335487954Z"
    }
   },
   "id": "c557a16d12e8a225",
   "execution_count": 6
  },
  {
   "cell_type": "code",
   "outputs": [
    {
     "data": {
      "text/plain": "{'is_done': False,\n 'is_running': True,\n 'current_time': '2024-02-22T17:19:01.940318',\n 'start_time': '2024-02-22T17:19:01.683241',\n 'expected_duration': 226.0,\n 'expected_finish_time': '2024-02-22T17:22:47.683241',\n 'expected_progress': 0.0011375088495575222,\n 'expected_remaining': 225.742923,\n 'cpu_util': 28.3875,\n 'ram_available': 51.5572624206543,\n 'ram_used': 0.4912109375,\n 'ram_used_since_start': 0.0281982421875,\n 'gpu_available': 6.74169921875,\n 'gpu_used': 0.0,\n 'gpu_util': 22.0,\n 'gpu_used_since_start': 0.0}"
     },
     "execution_count": 84,
     "metadata": {},
     "output_type": "execute_result"
    }
   ],
   "source": [
    "response = requests.get(f'{base_url}/status?code={loader_id}')\n",
    "response.json()"
   ],
   "metadata": {
    "collapsed": false,
    "ExecuteTime": {
     "end_time": "2024-02-22T16:19:02.956143521Z",
     "start_time": "2024-02-22T16:19:01.937852534Z"
    }
   },
   "id": "4d84a87cfd05c609",
   "execution_count": 84
  },
  {
   "cell_type": "code",
   "outputs": [
    {
     "data": {
      "text/plain": "2"
     },
     "execution_count": 85,
     "metadata": {},
     "output_type": "execute_result"
    }
   ],
   "source": [
    "text = 'It was the best of times, it was'\n",
    "text = 'Here is my 500 word essay on the best way to cook a turkey for a great thanksgiving dinner. I hope you enjoy it.\\nPart 1: Planning and Buying\\n'\n",
    "response = requests.post(f'{base_url}/custom?parent={loader_id}', json={'_base': 'hfgen', 'text': text})\n",
    "taskid = response.json()\n",
    "taskid"
   ],
   "metadata": {
    "collapsed": false,
    "ExecuteTime": {
     "end_time": "2024-02-22T16:19:02.968091308Z",
     "start_time": "2024-02-22T16:19:02.954163963Z"
    }
   },
   "id": "ac3dc9d5150124b9",
   "execution_count": 85
  },
  {
   "cell_type": "code",
   "outputs": [
    {
     "data": {
      "text/plain": "2"
     },
     "execution_count": 86,
     "metadata": {},
     "output_type": "execute_result"
    }
   ],
   "source": [
    "response = requests.get(f'{base_url}/start?code={taskid}')\n",
    "response.json()"
   ],
   "metadata": {
    "collapsed": false,
    "ExecuteTime": {
     "end_time": "2024-02-22T16:19:03.276909719Z",
     "start_time": "2024-02-22T16:19:03.124598261Z"
    }
   },
   "id": "f12c7e24265f226e",
   "execution_count": 86
  },
  {
   "cell_type": "code",
   "outputs": [
    {
     "data": {
      "text/plain": "{'is_done': False,\n 'is_running': True,\n 'current_time': '2024-02-22T17:19:04.227264',\n 'cpu_util': 11.7,\n 'ram_available': 51.55148696899414,\n 'ram_used': 0.4942626953125,\n 'gpu_available': 6.74169921875,\n 'gpu_used': 0.0,\n 'gpu_util': 23.0,\n 'waiting_for': [{'name': 'phi2-001',\n   'code': 1,\n   'timestamp': '2024-02-22T17:19:01.413202',\n   'configname': 'phi2'}]}"
     },
     "execution_count": 87,
     "metadata": {},
     "output_type": "execute_result"
    }
   ],
   "source": [
    "response = requests.get(f'{base_url}/status?code={taskid}')\n",
    "response.json()"
   ],
   "metadata": {
    "collapsed": false,
    "ExecuteTime": {
     "end_time": "2024-02-22T16:19:05.624401797Z",
     "start_time": "2024-02-22T16:19:03.992183895Z"
    }
   },
   "id": "600472a7003f03a8",
   "execution_count": 87
  },
  {
   "cell_type": "code",
   "outputs": [
    {
     "data": {
      "text/plain": "[{'name': 'task-002',\n  'code': 2,\n  'timestamp': '2024-02-22T17:19:02.959491',\n  'status': {'is_done': True,\n   'is_running': False,\n   'current_time': '2024-02-22T17:21:24.686447',\n   'start_time': '2024-02-22T17:20:26.394972',\n   'finish_time': '2024-02-22T17:20:39.141243',\n   'duration': 12.746271,\n   'cpu_util': 13.7875,\n   'ram_available': 50.35505294799805,\n   'ram_used': 1.9849739074707031,\n   'ram_used_since_start': 0.5743408203125,\n   'gpu_available': 0.73248291015625,\n   'gpu_used': 5.892578125,\n   'gpu_util': 0.0,\n   'gpu_used_since_start': 0.51953125,\n   'waiting_for': [],\n   'tokens': 500,\n   'token_rate': 39.22715906479628}},\n {'name': 'phi2-001',\n  'code': 1,\n  'timestamp': '2024-02-22T17:19:01.413202',\n  'configname': 'phi2',\n  'status': {'is_done': True,\n   'is_running': False,\n   'current_time': '2024-02-22T17:21:25.692030',\n   'start_time': '2024-02-22T17:19:01.683241',\n   'finish_time': '2024-02-22T17:20:26.388335',\n   'duration': 84.705094,\n   'expected_duration': 226.0,\n   'expected_finish_time': '2024-02-22T17:22:47.683241',\n   'cpu_util': 8.7375,\n   'ram_available': 50.354644775390625,\n   'ram_used': 1.9849739074707031,\n   'ram_used_since_start': 1.5219612121582031,\n   'gpu_available': 0.73248291015625,\n   'gpu_used': 5.892578125,\n   'gpu_util': 8.0,\n   'gpu_used_since_start': 5.892578125}}]"
     },
     "execution_count": 89,
     "metadata": {},
     "output_type": "execute_result"
    }
   ],
   "source": [
    "report = requests.get(f'{base_url}/report?status=1').json()\n",
    "report"
   ],
   "metadata": {
    "collapsed": false,
    "ExecuteTime": {
     "end_time": "2024-02-22T16:21:26.718362758Z",
     "start_time": "2024-02-22T16:21:24.686181598Z"
    }
   },
   "id": "779d824dfb7a9980",
   "execution_count": 89
  },
  {
   "cell_type": "code",
   "outputs": [
    {
     "data": {
      "text/plain": "(36, 500)"
     },
     "execution_count": 90,
     "metadata": {},
     "output_type": "execute_result"
    }
   ],
   "source": [
    "response = requests.get(f'{base_url}/response?code={taskid}').json()\n",
    "response['inp_tok'], response['out_tok']"
   ],
   "metadata": {
    "collapsed": false,
    "ExecuteTime": {
     "end_time": "2024-02-22T16:21:34.780333016Z",
     "start_time": "2024-02-22T16:21:34.773605020Z"
    }
   },
   "id": "d3881b38dbd78ee1",
   "execution_count": 90
  },
  {
   "cell_type": "code",
   "outputs": [
    {
     "name": "stdout",
     "output_type": "stream",
     "text": [
      "\u001B[94mHere is my 500 word essay on the best way to cook a turkey for a great thanksgiving dinner. I hope you enjoy it.\n",
      "Part 1: Planning and Buying\n",
      "\u001B[0mThe first step in cooking a turkey is to plan ahead. You need to decide how many people you are cooking for, what kind of turkey you want to buy, and how much time you have to prepare.\n",
      "Once you have decided on these things, you can start looking for a turkey. There are many different types of turkeys available, so it is important to choose one that is right for you. Some turkeys are better for roasting, while others are better for frying.\n",
      "When buying a turkey, it is important to make sure that it is fresh. You can tell if a turkey is fresh by looking at the color of the skin. If the skin is bright red, then the turkey is fresh. If the skin is dull or gray, then the turkey is not fresh.\n",
      "Once you have bought your turkey, it is time to start preparing it for cooking. The first thing you need to do is to thaw the turkey. You can thaw the turkey in the refrigerator, in cold water, or in the microwave.\n",
      "If you are thawing the turkey in the refrigerator, then you need to plan ahead. It will take about 24 hours to thaw a turkey in the refrigerator. If you are thawing the turkey in cold water, then you need to change the water every 30 minutes. If you are thawing the turkey in the microwave, then you need to follow the instructions that come with the microwave.\n",
      "Once the turkey is thawed, it is time to start preparing it for cooking. You need to remove the giblets from the turkey and rinse the turkey inside and out. You also need to pat the turkey dry with paper towels.\n",
      "Part 2: Cooking the Turkey\n",
      "Now that you have prepared the turkey, it is time to start cooking it. There are many different ways to cook a turkey, but the most common way is to roast it in the oven.\n",
      "To roast a turkey, you need to preheat the oven to 325 degrees Fahrenheit. Then, you need to place the turkey in a roasting pan and put the pan in the oven. You need to cook the turkey for about 15 minutes per pound.\n",
      "Once the turkey is cooked, you need to let it rest for about 20 minutes before carving it. This will allow the juices to redistribute and make the turkey more tender.\n",
      "If you want to make your turkey more flavorful, you can add some herbs and spices to the stuffing."
     ]
    }
   ],
   "source": [
    "print(colorize(response['prompt'], 'blue'),end='')\n",
    "print(response['response'],end='')"
   ],
   "metadata": {
    "collapsed": false,
    "ExecuteTime": {
     "end_time": "2024-02-22T16:21:35.620514505Z",
     "start_time": "2024-02-22T16:21:35.576275871Z"
    }
   },
   "id": "ef657c31381df42b",
   "execution_count": 91
  },
  {
   "cell_type": "code",
   "execution_count": 43,
   "id": "476e996565dbd87c",
   "metadata": {
    "collapsed": false,
    "ExecuteTime": {
     "end_time": "2024-02-20T10:55:07.902605670Z",
     "start_time": "2024-02-20T10:55:07.862134342Z"
    }
   },
   "outputs": [
    {
     "data": {
      "text/plain": "{'item': {'name': 'phi2', 'event': 'Hello'}}"
     },
     "execution_count": 43,
     "metadata": {},
     "output_type": "execute_result"
    }
   ],
   "source": [
    "data = {'name': 'phi2', 'event': 'Hello'}\n",
    "\n",
    "response = requests.post(f'{base_url}/demo', json=data)\n",
    "response.json()"
   ]
  },
  {
   "cell_type": "code",
   "execution_count": 92,
   "id": "f9bf1d0b548fbafa",
   "metadata": {
    "collapsed": false,
    "ExecuteTime": {
     "end_time": "2024-02-22T16:28:36.642541041Z",
     "start_time": "2024-02-22T16:28:36.598112391Z"
    }
   },
   "outputs": [
    {
     "data": {
      "text/plain": "3"
     },
     "execution_count": 92,
     "metadata": {},
     "output_type": "execute_result"
    }
   ],
   "source": [
    "text = 'Grace weighs 125 pounds. Alex weighs 2 pounds less than 4 times what Grace weighs. What are their combined weights in pounds?'\n",
    "response = requests.post(f'{base_url}/custom?parent={loader_id}', json={'_base': 'hfgen', 'text': text})\n",
    "taskid = response.json()\n",
    "taskid"
   ]
  },
  {
   "cell_type": "code",
   "outputs": [],
   "source": [],
   "metadata": {
    "collapsed": false
   },
   "id": "6e64e59101989a83"
  },
  {
   "cell_type": "code",
   "outputs": [],
   "source": [
    "from huggingface_hub import scan_cache_dir"
   ],
   "metadata": {
    "collapsed": false,
    "ExecuteTime": {
     "end_time": "2024-02-15T12:35:29.751278458Z",
     "start_time": "2024-02-15T12:35:29.674970876Z"
    }
   },
   "id": "69353164c1458fe6",
   "execution_count": 5
  },
  {
   "cell_type": "code",
   "execution_count": 6,
   "id": "21d722813231a874",
   "metadata": {
    "collapsed": false,
    "ExecuteTime": {
     "end_time": "2024-02-15T12:35:40.992490159Z",
     "start_time": "2024-02-15T12:35:37.059774666Z"
    }
   },
   "outputs": [],
   "source": [
    "hf_cache_info = scan_cache_dir()"
   ]
  },
  {
   "cell_type": "code",
   "execution_count": null,
   "id": "734e9c477f75d5d3",
   "metadata": {
    "collapsed": false
   },
   "outputs": [],
   "source": []
  },
  {
   "cell_type": "code",
   "execution_count": 7,
   "id": "10154aa1f28055b1",
   "metadata": {
    "ExecuteTime": {
     "end_time": "2024-01-18T22:08:43.114349500Z",
     "start_time": "2024-01-18T22:08:43.104468400Z"
    },
    "collapsed": false
   },
   "outputs": [
    {
     "data": {
      "text/plain": [
       "{'detail': [{'type': 'model_attributes_type',\n",
       "   'loc': ['body', 'event'],\n",
       "   'msg': 'Input should be a valid dictionary or object to extract fields from',\n",
       "   'input': 'Bye',\n",
       "   'url': 'https://errors.pydantic.dev/2.5/v/model_attributes_type'},\n",
       "  {'type': 'missing',\n",
       "   'loc': ['body', 'repo'],\n",
       "   'msg': 'Field required',\n",
       "   'input': {'body': 'test', 'event': 'Bye'},\n",
       "   'url': 'https://errors.pydantic.dev/2.5/v/missing'},\n",
       "  {'type': 'missing',\n",
       "   'loc': ['body', 'webhook'],\n",
       "   'msg': 'Field required',\n",
       "   'input': {'body': 'test', 'event': 'Bye'},\n",
       "   'url': 'https://errors.pydantic.dev/2.5/v/missing'}]}"
      ]
     },
     "execution_count": 7,
     "metadata": {},
     "output_type": "execute_result"
    }
   ],
   "source": [
    "res = requests.post(, json={'body': 'test', 'event': 'Bye'})\n",
    "res.json()"
   ]
  },
  {
   "cell_type": "code",
   "execution_count": 1,
   "id": "1f43dbc66227b7cc",
   "metadata": {
    "ExecuteTime": {
     "end_time": "2024-01-18T22:06:59.082347800Z",
     "start_time": "2024-01-18T22:06:59.079317100Z"
    },
    "collapsed": false
   },
   "outputs": [],
   "source": []
  },
  {
   "cell_type": "code",
   "execution_count": null,
   "id": "70b51c98469bebb7",
   "metadata": {
    "collapsed": false
   },
   "outputs": [],
   "source": []
  }
 ],
 "metadata": {
  "kernelspec": {
   "display_name": "Python 3",
   "language": "python",
   "name": "python3"
  },
  "language_info": {
   "codemirror_mode": {
    "name": "ipython",
    "version": 3
   },
   "file_extension": ".py",
   "mimetype": "text/x-python",
   "name": "python",
   "nbconvert_exporter": "python",
   "pygments_lexer": "ipython3",
   "version": "3.11.5"
  }
 },
 "nbformat": 4,
 "nbformat_minor": 5
}
