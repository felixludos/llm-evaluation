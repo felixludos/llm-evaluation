{
 "cells": [
  {
   "metadata": {
    "ExecuteTime": {
     "end_time": "2024-05-17T08:53:28.298894Z",
     "start_time": "2024-05-17T08:53:28.293865Z"
    }
   },
   "cell_type": "code",
   "source": "import requests, json",
   "id": "1452e1de0d9f9eb8",
   "outputs": [],
   "execution_count": 23
  },
  {
   "metadata": {
    "ExecuteTime": {
     "end_time": "2024-05-17T13:40:42.999876Z",
     "start_time": "2024-05-17T13:40:42.991812Z"
    }
   },
   "cell_type": "code",
   "source": "import os",
   "id": "9b4b79306fdb6f19",
   "outputs": [],
   "execution_count": 1
  },
  {
   "metadata": {
    "ExecuteTime": {
     "end_time": "2024-05-17T13:42:08.759336Z",
     "start_time": "2024-05-17T13:42:08.752302Z"
    }
   },
   "cell_type": "code",
   "source": "'TASK_LOG' in os.environ",
   "id": "84a65a805922c7b9",
   "outputs": [
    {
     "data": {
      "text/plain": [
       "False"
      ]
     },
     "execution_count": 3,
     "metadata": {},
     "output_type": "execute_result"
    }
   ],
   "execution_count": 3
  },
  {
   "metadata": {},
   "cell_type": "code",
   "outputs": [],
   "execution_count": null,
   "source": "",
   "id": "6a178bd0cf294d86"
  },
  {
   "metadata": {
    "ExecuteTime": {
     "end_time": "2024-05-17T08:51:55.159934Z",
     "start_time": "2024-05-17T08:51:55.155274Z"
    }
   },
   "cell_type": "code",
   "source": [
    "url = 'http://127.0.0.1:3000'\n",
    "# API documentation: http://127.0.0.1:3000/docs"
   ],
   "id": "74277f1ff15ab04f",
   "outputs": [],
   "execution_count": 20
  },
  {
   "metadata": {
    "ExecuteTime": {
     "end_time": "2024-05-17T08:51:55.856794Z",
     "start_time": "2024-05-17T08:51:55.836099Z"
    }
   },
   "cell_type": "code",
   "source": "requests.get(f'{url}/info').json()",
   "id": "10a0f11744b6d4fb",
   "outputs": [
    {
     "data": {
      "text/plain": [
       "{'model_id': 'google/gemma-2b-it',\n",
       " 'model_sha': None,\n",
       " 'model_dtype': 'torch.float16',\n",
       " 'model_device_type': 'cuda',\n",
       " 'model_pipeline_tag': None,\n",
       " 'max_concurrent_requests': 128,\n",
       " 'max_best_of': 2,\n",
       " 'max_stop_sequences': 4,\n",
       " 'max_input_length': 1023,\n",
       " 'max_total_tokens': 1024,\n",
       " 'waiting_served_ratio': 0.3,\n",
       " 'max_batch_total_tokens': 16000,\n",
       " 'max_waiting_tokens': 20,\n",
       " 'max_batch_size': None,\n",
       " 'validation_workers': 2,\n",
       " 'max_client_batch_size': 4,\n",
       " 'version': '2.0.1',\n",
       " 'sha': 'eade7377140a680a79bd2ce3f2d486314cf5a9b9',\n",
       " 'docker_label': None}"
      ]
     },
     "execution_count": 21,
     "metadata": {},
     "output_type": "execute_result"
    }
   ],
   "execution_count": 21
  },
  {
   "metadata": {
    "ExecuteTime": {
     "end_time": "2024-05-17T08:53:38.488055Z",
     "start_time": "2024-05-17T08:53:34.715159Z"
    }
   },
   "cell_type": "code",
   "source": [
    "schema = {\n",
    "    \"properties\": {\n",
    "        \"location\": {\"title\": \"Location\", \"type\": \"string\"},\n",
    "        \"activity\": {\"title\": \"Activity\", \"type\": \"string\"},\n",
    "        \"animals_seen\": {\n",
    "            \"maximum\": 5,\n",
    "            \"minimum\": 1,\n",
    "            \"title\": \"Animals Seen\",\n",
    "            \"type\": \"integer\",\n",
    "        },\n",
    "        \"animals\": {\"items\": {\"type\": \"string\"}, \"title\": \"Animals\", \"type\": \"array\"},\n",
    "    },\n",
    "    \"required\": [\"location\", \"activity\", \"animals_seen\", \"animals\"],\n",
    "    \"title\": \"Animals\",\n",
    "    \"type\": \"object\",\n",
    "}\n",
    "\n",
    "data = {\n",
    "    \"inputs\": \"convert to compact JSON in a single line: I saw a puppy a cat and a raccoon during my bike ride in the park\",\n",
    "    # 'inputs': 'I saw a puppy, a cat, and a raccoon during my bike ride in the park',\n",
    "    \"parameters\": {\n",
    "        \"max_new_tokens\": 100,\n",
    "        # \"repetition_penalty\": 1.3,\n",
    "        \"temperature\": 0.6,\n",
    "        # 'seed': 1,\n",
    "        \"grammar\": {\n",
    "            \"type\": \"json\",\n",
    "            \"value\": schema\n",
    "        }\n",
    "    }\n",
    "}\n",
    "\n",
    "response = requests.post(f'{url}/generate', headers={\"Content-Type\": \"application/json\",}, json=data)\n",
    "raw = response.json()['generated_text'].strip()\n",
    "# some models get stuck generating whitespace until the max tokens is reached, necessitating a final '}' to be added\n",
    "if not raw.endswith('}'):\n",
    "    raw += '}'\n",
    "gen = json.loads(raw)\n",
    "print(gen)"
   ],
   "id": "ad295e67f6a12044",
   "outputs": [
    {
     "name": "stdout",
     "output_type": "stream",
     "text": [
      "{'activity': 'Bike ride', 'animals': ['puppy', 'cat', 'raccoon']}\n"
     ]
    }
   ],
   "execution_count": 24
  },
  {
   "metadata": {
    "ExecuteTime": {
     "end_time": "2024-05-17T08:54:51.438089Z",
     "start_time": "2024-05-17T08:54:51.433375Z"
    }
   },
   "cell_type": "code",
   "source": "from openai import OpenAI",
   "id": "61a8c9893fdac376",
   "outputs": [],
   "execution_count": 25
  },
  {
   "metadata": {
    "ExecuteTime": {
     "end_time": "2024-05-17T08:54:51.794183Z",
     "start_time": "2024-05-17T08:54:51.748757Z"
    }
   },
   "cell_type": "code",
   "source": [
    "client = OpenAI(\n",
    "    base_url=f\"{url}/v1\",\n",
    "    api_key=\"-\"\n",
    ")"
   ],
   "id": "8b87674aa6080b7c",
   "outputs": [],
   "execution_count": 26
  },
  {
   "metadata": {
    "ExecuteTime": {
     "end_time": "2024-05-17T08:54:55.853871Z",
     "start_time": "2024-05-17T08:54:52.712346Z"
    }
   },
   "cell_type": "code",
   "source": [
    "prompt = \"What is deep learning?\"\n",
    "\n",
    "chat_completion = client.chat.completions.create(\n",
    "    model=\"tgi\",\n",
    "    messages=[\n",
    "        # {\"role\": \"system\", \"content\": \"You are a helpful assistant.\" },\n",
    "        {\"role\": \"user\", \"content\": prompt}\n",
    "    ],\n",
    "    max_tokens=100,\n",
    "    temperature=0.8,\n",
    "    seed=1,\n",
    "    # n=2,\n",
    "    stream=True\n",
    ")\n",
    "# print(chat_completion)\n",
    "for token in chat_completion:\n",
    "    if token.choices[0].delta.content:\n",
    "        print(token.choices[0].delta.content, end='')\n",
    "print()"
   ],
   "id": "a254be258037d747",
   "outputs": [
    {
     "name": "stdout",
     "output_type": "stream",
     "text": [
      "**Deep Learning** is a subfield of machine learning that focuses on creating algorithms that can learn and adapt from vast amounts of data without explicit programming. This allows these algorithms to discover patterns and relationships in data that might be difficult or impossible for humans to perceive.\n",
      "\n",
      "**Key characteristics of deep learning:**\n",
      "\n",
      "* **Autoencoders and autoregressive models:** These are foundational architectures that use artificial neurons to learn hierarchical representations of data.\n",
      "* **Multi-layered neural networks (MLNNs):\n"
     ]
    }
   ],
   "execution_count": 27
  },
  {
   "metadata": {},
   "cell_type": "code",
   "outputs": [],
   "execution_count": null,
   "source": "",
   "id": "ae448794c692d65d"
  },
  {
   "metadata": {},
   "cell_type": "code",
   "outputs": [],
   "execution_count": null,
   "source": "",
   "id": "bda8ffb46f095435"
  },
  {
   "metadata": {},
   "cell_type": "code",
   "outputs": [],
   "execution_count": null,
   "source": "",
   "id": "d62cc067dfb6aed8"
  },
  {
   "cell_type": "code",
   "execution_count": null,
   "id": "initial_id",
   "metadata": {
    "collapsed": true
   },
   "outputs": [],
   "source": [
    ""
   ]
  }
 ],
 "metadata": {
  "kernelspec": {
   "display_name": "Python 3",
   "language": "python",
   "name": "python3"
  },
  "language_info": {
   "codemirror_mode": {
    "name": "ipython",
    "version": 2
   },
   "file_extension": ".py",
   "mimetype": "text/x-python",
   "name": "python",
   "nbconvert_exporter": "python",
   "pygments_lexer": "ipython2",
   "version": "2.7.6"
  }
 },
 "nbformat": 4,
 "nbformat_minor": 5
}
