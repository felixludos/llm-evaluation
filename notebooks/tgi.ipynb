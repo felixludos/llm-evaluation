{
 "cells": [
  {
   "metadata": {
    "ExecuteTime": {
     "end_time": "2024-05-15T15:32:19.657737Z",
     "start_time": "2024-05-15T15:32:19.602255Z"
    }
   },
   "cell_type": "code",
   "source": [
    "import requests\n",
    "import json"
   ],
   "id": "1452e1de0d9f9eb8",
   "outputs": [],
   "execution_count": 1
  },
  {
   "metadata": {
    "ExecuteTime": {
     "end_time": "2024-05-15T15:32:20.208233Z",
     "start_time": "2024-05-15T15:32:20.203179Z"
    }
   },
   "cell_type": "code",
   "source": "url = 'http://127.0.0.1:3000'",
   "id": "74277f1ff15ab04f",
   "outputs": [],
   "execution_count": 2
  },
  {
   "metadata": {
    "ExecuteTime": {
     "end_time": "2024-05-15T15:48:47.780464Z",
     "start_time": "2024-05-15T15:48:47.765604Z"
    }
   },
   "cell_type": "code",
   "source": "requests.get(f'{url}/info').json()",
   "id": "10a0f11744b6d4fb",
   "outputs": [
    {
     "data": {
      "text/plain": [
       "{'model_id': 'google/gemma-2b-it',\n",
       " 'model_sha': None,\n",
       " 'model_dtype': 'torch.float16',\n",
       " 'model_device_type': 'cuda',\n",
       " 'model_pipeline_tag': None,\n",
       " 'max_concurrent_requests': 128,\n",
       " 'max_best_of': 2,\n",
       " 'max_stop_sequences': 4,\n",
       " 'max_input_length': 4095,\n",
       " 'max_total_tokens': 4096,\n",
       " 'waiting_served_ratio': 0.3,\n",
       " 'max_batch_total_tokens': 16000,\n",
       " 'max_waiting_tokens': 20,\n",
       " 'max_batch_size': None,\n",
       " 'validation_workers': 2,\n",
       " 'max_client_batch_size': 4,\n",
       " 'version': '2.0.1',\n",
       " 'sha': 'eade7377140a680a79bd2ce3f2d486314cf5a9b9',\n",
       " 'docker_label': None}"
      ]
     },
     "execution_count": 17,
     "metadata": {},
     "output_type": "execute_result"
    }
   ],
   "execution_count": 17
  },
  {
   "metadata": {
    "ExecuteTime": {
     "end_time": "2024-05-15T15:48:49.950892Z",
     "start_time": "2024-05-15T15:48:49.945538Z"
    }
   },
   "cell_type": "code",
   "source": "sha = 'ac2ae5fab2ce3f9f40dc79b5ca9f637430d24971'",
   "id": "1dfcd63494862fc6",
   "outputs": [],
   "execution_count": 18
  },
  {
   "metadata": {
    "ExecuteTime": {
     "end_time": "2024-05-15T15:49:55.581579Z",
     "start_time": "2024-05-15T15:49:49.076680Z"
    }
   },
   "cell_type": "code",
   "source": [
    "import requests\n",
    "\n",
    "schema = {\n",
    "    \"properties\": {\n",
    "        \"location\": {\"title\": \"Location\", \"type\": \"string\"},\n",
    "        \"activity\": {\"title\": \"Activity\", \"type\": \"string\"},\n",
    "        \"animals_seen\": {\n",
    "            \"maximum\": 5,\n",
    "            \"minimum\": 1,\n",
    "            \"title\": \"Animals Seen\",\n",
    "            \"type\": \"integer\",\n",
    "        },\n",
    "        \"animals\": {\"items\": {\"type\": \"string\"}, \"title\": \"Animals\", \"type\": \"array\"},\n",
    "    },\n",
    "    \"required\": [\"location\", \"activity\", \"animals_seen\", \"animals\"],\n",
    "    \"title\": \"Animals\",\n",
    "    \"type\": \"object\",\n",
    "}\n",
    "\n",
    "\n",
    "data = {\n",
    "    \"inputs\": \"convert to compact JSON in a single line: I saw a puppy a cat and a raccoon during my bike ride in the park\",\n",
    "    # 'inputs': 'I saw a puppy, a cat, and a raccoon during my bike ride in the park',\n",
    "    \"parameters\": {\n",
    "        \"max_new_tokens\": 200,\n",
    "        # \"repetition_penalty\": 1.3,\n",
    "        \"temperature\": 0.6,\n",
    "        'seed': 1,\n",
    "        \"grammar\": {\n",
    "            \"type\": \"json\",\n",
    "            \"value\": schema\n",
    "        }\n",
    "    }\n",
    "}\n",
    "\n",
    "response = requests.post(f'{url}/generate', headers={\"Content-Type\": \"application/json\",}, json=data)\n",
    "print(response.json()['generated_text'])"
   ],
   "id": "ad295e67f6a12044",
   "outputs": [
    {
     "name": "stdout",
     "output_type": "stream",
     "text": [
      "{ \"activity\": \"Bike Ride\", \"animals\": [\"puppy\", \"cat\", \"raccoon\"]\n",
      "\n",
      "\n",
      "   \n",
      "  \n",
      "  \n",
      "  \n",
      "   \n",
      "  \n",
      "  \n",
      "  \n",
      "  \n",
      "  \n",
      "  \n",
      "  \n",
      "  \n",
      "  \n",
      "  \n",
      "  \n",
      "  \n",
      "  \n",
      "  \n",
      "  \n",
      "  \n",
      "  \n",
      "  \n",
      "  \n",
      "  \n",
      "  \n",
      "  \n",
      "  \n",
      "  \n",
      "  \n",
      "  \n",
      "  \n",
      "  \n",
      "  \n",
      "  \n",
      "  \n",
      "  \n",
      "  \n",
      "  \n",
      "  \n",
      "  \n",
      "  \n",
      "  \n",
      "  \n",
      "  \n",
      "  \n",
      "  \n",
      "  \n",
      "  \n",
      "  \n",
      "  \n",
      "  \n",
      "  \n",
      "  \n",
      "  \n",
      "  \n",
      "  \n",
      "  \n",
      "  \n",
      "  \n",
      "  \n",
      "  \n",
      "  \n",
      "  \n",
      "  \n",
      "  \n",
      "  \n",
      "  \n",
      "  \n",
      "  \n",
      "  \n",
      "  \n",
      "  \n",
      "  \n",
      "  \n",
      "  \n",
      "  \n",
      "  \n",
      "  \n",
      "  \n",
      "  \n",
      "  \n",
      "  \n",
      "  \n",
      "  \n",
      "  \n",
      "  \n",
      "  \n",
      "\n"
     ]
    }
   ],
   "execution_count": 21
  },
  {
   "metadata": {},
   "cell_type": "code",
   "outputs": [],
   "execution_count": null,
   "source": "",
   "id": "87feab95f878c447"
  },
  {
   "metadata": {},
   "cell_type": "code",
   "outputs": [],
   "execution_count": null,
   "source": "",
   "id": "afe4cac69d074ff9"
  },
  {
   "metadata": {
    "ExecuteTime": {
     "end_time": "2024-05-15T15:32:31.619537Z",
     "start_time": "2024-05-15T15:32:31.193816Z"
    }
   },
   "cell_type": "code",
   "source": "from openai import OpenAI",
   "id": "61a8c9893fdac376",
   "outputs": [],
   "execution_count": 5
  },
  {
   "metadata": {
    "ExecuteTime": {
     "end_time": "2024-05-15T15:33:16.059241Z",
     "start_time": "2024-05-15T15:33:16.011420Z"
    }
   },
   "cell_type": "code",
   "source": [
    "client = OpenAI(\n",
    "    base_url=f\"{url}/v1\",\n",
    "    api_key=\"-\"\n",
    ")"
   ],
   "id": "8b87674aa6080b7c",
   "outputs": [],
   "execution_count": 12
  },
  {
   "metadata": {
    "ExecuteTime": {
     "end_time": "2024-05-15T15:33:20.274037Z",
     "start_time": "2024-05-15T15:33:16.770472Z"
    }
   },
   "cell_type": "code",
   "source": [
    "prompt = \"What is deep learning?\"\n",
    "# prompt = '''Tell me the best joke you've ever heard.'''\n",
    "prompt = '''[user prompt]'''\n",
    "\n",
    "chat_completion = client.chat.completions.create(\n",
    "    model=\"tgi\",\n",
    "    messages=[\n",
    "        # {\"role\": \"system\", \"content\": \"You are a helpful assistant.\" },\n",
    "        {\"role\": \"user\", \"content\": prompt}\n",
    "    ],\n",
    "    max_tokens=200,\n",
    "    temperature=0.8,\n",
    "    # n=2,\n",
    "    stream=True\n",
    ")\n",
    "# print(chat_completion)\n",
    "for token in chat_completion:\n",
    "    # print(token)\n",
    "    if token.choices[0].delta.content:\n",
    "        # print(token)\n",
    "        print(token.choices[0].delta.content, end='')\n",
    "print()"
   ],
   "id": "a254be258037d747",
   "outputs": [
    {
     "name": "stdout",
     "output_type": "stream",
     "text": [
      "I'd be happy to help! However, I need more context to provide a relevant and helpful response. Could you please provide more information about the prompt you have?\n",
      "\n",
      "Please provide details such as:\n",
      "\n",
      "* **The main subject or theme of the prompt**\n",
      "* **The specific question or task you want me to fulfill**\n",
      "* **Any context or background information** relevant to the prompt\n",
      "* **The desired outcome or answer format**\n",
      "\n",
      "Once I have this context, I can provide you with a more accurate and relevant response.\n"
     ]
    }
   ],
   "execution_count": 13
  },
  {
   "metadata": {},
   "cell_type": "code",
   "outputs": [],
   "execution_count": null,
   "source": "",
   "id": "4aff19a7ccc201ab"
  },
  {
   "metadata": {
    "ExecuteTime": {
     "end_time": "2024-04-29T22:42:44.786473Z",
     "start_time": "2024-04-29T22:42:44.772345Z"
    }
   },
   "cell_type": "code",
   "source": [
    "response = requests.get(f'{url}/info', headers={\"Content-Type\": \"application/json\",})\n",
    "print(response.json())"
   ],
   "id": "67499fe903a53010",
   "outputs": [
    {
     "name": "stdout",
     "output_type": "stream",
     "text": [
      "{'model_id': 'google/gemma-2b-it', 'model_sha': None, 'model_dtype': 'torch.float16', 'model_device_type': 'cuda', 'model_pipeline_tag': None, 'max_concurrent_requests': 128, 'max_best_of': 2, 'max_stop_sequences': 4, 'max_input_length': 1000, 'max_total_tokens': 1001, 'waiting_served_ratio': 0.3, 'max_batch_total_tokens': 1001, 'max_waiting_tokens': 20, 'max_batch_size': None, 'validation_workers': 2, 'max_client_batch_size': 4, 'version': '2.0.1', 'sha': '007d5e54aa76be74925501011fa8029bc5034f89', 'docker_label': None}\n"
     ]
    }
   ],
   "execution_count": 36
  },
  {
   "metadata": {
    "ExecuteTime": {
     "end_time": "2024-05-15T15:31:36.060541Z",
     "start_time": "2024-05-15T15:31:36.049109Z"
    }
   },
   "cell_type": "code",
   "source": [
    "response = requests.get(f'{url}/health', headers={\"Content-Type\": \"application/json\",})\n",
    "response.content"
   ],
   "id": "d284458c2c6cf2e8",
   "outputs": [
    {
     "data": {
      "text/plain": [
       "b''"
      ]
     },
     "execution_count": 15,
     "metadata": {},
     "output_type": "execute_result"
    }
   ],
   "execution_count": 15
  },
  {
   "metadata": {},
   "cell_type": "code",
   "outputs": [],
   "execution_count": null,
   "source": "",
   "id": "ae448794c692d65d"
  },
  {
   "metadata": {},
   "cell_type": "code",
   "outputs": [],
   "execution_count": null,
   "source": "",
   "id": "bda8ffb46f095435"
  },
  {
   "metadata": {},
   "cell_type": "code",
   "outputs": [],
   "execution_count": null,
   "source": "",
   "id": "d62cc067dfb6aed8"
  },
  {
   "cell_type": "code",
   "execution_count": null,
   "id": "initial_id",
   "metadata": {
    "collapsed": true
   },
   "outputs": [],
   "source": [
    ""
   ]
  }
 ],
 "metadata": {
  "kernelspec": {
   "display_name": "Python 3",
   "language": "python",
   "name": "python3"
  },
  "language_info": {
   "codemirror_mode": {
    "name": "ipython",
    "version": 2
   },
   "file_extension": ".py",
   "mimetype": "text/x-python",
   "name": "python",
   "nbconvert_exporter": "python",
   "pygments_lexer": "ipython2",
   "version": "2.7.6"
  }
 },
 "nbformat": 4,
 "nbformat_minor": 5
}
