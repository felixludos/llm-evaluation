{
 "cells": [
  {
   "cell_type": "code",
   "id": "initial_id",
   "metadata": {
    "collapsed": true,
    "ExecuteTime": {
     "end_time": "2024-05-21T14:49:20.590875Z",
     "start_time": "2024-05-21T14:49:20.054413Z"
    }
   },
   "source": [
    "import omnifig as fig\n",
    "from meval.imports import tool\n",
    "from meval import util\n",
    "fig.initialize()"
   ],
   "outputs": [],
   "execution_count": 2
  },
  {
   "metadata": {
    "ExecuteTime": {
     "end_time": "2024-05-21T14:49:25.305385Z",
     "start_time": "2024-05-21T14:49:25.297350Z"
    }
   },
   "cell_type": "code",
   "source": [
    "# endpoint = fig.create_config(_type='gen-endpoint', gauge={'prompt': 'question'}, url='http://wagner:3000').create()\n",
    "endpoint = fig.create_config(_type='chat-endpoint', gap={'prompt': 'question'}, url='http://wagner:3000').create()"
   ],
   "id": "cf58c297ef196c98",
   "outputs": [
    {
     "name": "stdout",
     "output_type": "stream",
     "text": [
      "| CREATING . type='chat-endpoint'\n",
      "| max-tokens: None (by default)\n",
      "| seed: None (by default)\n",
      "| stop: None (by default)\n",
      "| temperature: None (by default)\n",
      "| top-p: None (by default)\n",
      "| frequency-penalty: None (by default)\n",
      "| presence-penalty: None (by default)\n",
      "| kwargs: {} (by default)\n",
      "| use-local: True (by default)\n",
      "| kwargs: {} (by default)\n",
      "| url: 'http://wagner:3000'\n",
      "| access-info: True (by default)\n",
      "| gauge [dict with 1 item]\n",
      "|  > (prompt): 'question'\n",
      "| kwargs: {} (by default)\n"
     ]
    }
   ],
   "execution_count": 4
  },
  {
   "metadata": {
    "ExecuteTime": {
     "end_time": "2024-05-21T14:49:34.299617Z",
     "start_time": "2024-05-21T14:49:28.126228Z"
    }
   },
   "cell_type": "code",
   "source": "endpoint.stage()",
   "id": "9183ffbaa3c39e84",
   "outputs": [
    {
     "data": {
      "text/plain": [
       "ChatEndpoint(url='http://wagner:3000')"
      ]
     },
     "execution_count": 5,
     "metadata": {},
     "output_type": "execute_result"
    }
   ],
   "execution_count": 5
  },
  {
   "metadata": {
    "ExecuteTime": {
     "end_time": "2024-05-21T14:50:01.969675Z",
     "start_time": "2024-05-21T14:50:01.964101Z"
    }
   },
   "cell_type": "code",
   "source": "root = util.get_repo_root()",
   "id": "a806520dbba8691d",
   "outputs": [],
   "execution_count": 6
  },
  {
   "metadata": {
    "ExecuteTime": {
     "end_time": "2024-05-23T10:54:32.223346Z",
     "start_time": "2024-05-23T10:54:32.212373Z"
    }
   },
   "cell_type": "code",
   "source": [
    "benchmark = fig.create_config(_type='gsm8k', path=root/'benchmarks/dev.jsonl').create()\n",
    "benchmark"
   ],
   "id": "a3fc06c7f9293c2",
   "outputs": [
    {
     "name": "stdout",
     "output_type": "stream",
     "text": [
      "| CREATING . type='gsm8k'\n",
      "| path: PosixPath('/home/fleeb/workspace/code/llm-evaluation/benchmarks/dev.jsonl')\n",
      "| kwargs: {} (by default)\n",
      "| data: None (by default)\n",
      "| index-key: 'idx' (by default)\n",
      "| kwargs: {} (by default)\n"
     ]
    },
    {
     "data": {
      "text/plain": [
       "GSM8k"
      ]
     },
     "execution_count": 27,
     "metadata": {},
     "output_type": "execute_result"
    }
   ],
   "execution_count": 27
  },
  {
   "metadata": {
    "ExecuteTime": {
     "end_time": "2024-05-23T10:54:33.807205Z",
     "start_time": "2024-05-23T10:54:33.775252Z"
    }
   },
   "cell_type": "code",
   "source": "benchmark.load()",
   "id": "b638fa6bc0d29bad",
   "outputs": [
    {
     "data": {
      "text/plain": [
       "GSM8k[1000](question, answer, rationale, expr)"
      ]
     },
     "execution_count": 28,
     "metadata": {},
     "output_type": "execute_result"
    }
   ],
   "execution_count": 28
  },
  {
   "metadata": {
    "ExecuteTime": {
     "end_time": "2024-05-23T10:54:35.434947Z",
     "start_time": "2024-05-23T10:54:35.429764Z"
    }
   },
   "cell_type": "code",
   "source": [
    "@tool('prompt')\n",
    "def prompter(question):\n",
    "\treturn question"
   ],
   "id": "a46c7262f1a6e4b2",
   "outputs": [],
   "execution_count": 29
  },
  {
   "metadata": {
    "ExecuteTime": {
     "end_time": "2024-05-21T14:51:46.423285Z",
     "start_time": "2024-05-21T14:51:46.415046Z"
    }
   },
   "cell_type": "code",
   "source": [
    "sample = next(iter(benchmark))\n",
    "sample.include(prompter, endpoint)"
   ],
   "id": "2df82f70bfd9bca7",
   "outputs": [
    {
     "data": {
      "text/plain": [
       "Context({idx}, {question}, {answer}, {rationale}, {expr}, {prompt}, {chat_prompt}, {num_tokens}, {chat}, {response}, {model_id}, {model_sha}, {model_dtype}, {model_device_type}, {model_pipeline_tag}, {max_concurrent_requests}, {max_best_of}, {max_stop_sequences}, {max_input_length}, {max_total_tokens}, {waiting_served_ratio}, {max_batch_total_tokens}, {max_waiting_tokens}, {max_batch_size}, {validation_workers}, {version}, {sha}, {docker_label})"
      ]
     },
     "execution_count": 17,
     "metadata": {},
     "output_type": "execute_result"
    }
   ],
   "execution_count": 17
  },
  {
   "metadata": {
    "ExecuteTime": {
     "end_time": "2024-05-23T10:54:38.175622Z",
     "start_time": "2024-05-23T10:54:38.169589Z"
    }
   },
   "cell_type": "code",
   "source": "print(sample['question'])",
   "id": "6c3c5dd68748619c",
   "outputs": [
    {
     "name": "stdout",
     "output_type": "stream",
     "text": [
      "The average temperature in Orlando in a particular week was 60 degrees. If the temperature on each of the first 3 days in that week was 40, and the temperature for Thursday and Friday was 80 degrees each, calculate the total temperature of the remaining days of that week.\n"
     ]
    }
   ],
   "execution_count": 30
  },
  {
   "metadata": {
    "ExecuteTime": {
     "end_time": "2024-05-23T10:54:38.719558Z",
     "start_time": "2024-05-23T10:54:38.713681Z"
    }
   },
   "cell_type": "code",
   "source": "print(sample['response'])",
   "id": "5ef536803afe93d0",
   "outputs": [
    {
     "name": "stdout",
     "output_type": "stream",
     "text": [
      "Sure. Below are the calculations for the weekly average temperature:\n",
      "\n",
      "1. **Total temperature on first 3 days (40 degrees)**: 40 degrees\n",
      "\n",
      "2. **Temperature on Thursday (80 degrees)**: 80 degrees\n",
      "\n",
      "3. **Temperature on Friday (80 degrees)**: 80 degrees\n",
      "\n",
      "4. **Total temperature**: 40 + 80 + 80 = 200 degrees\n",
      "\n",
      "Therefore, the total temperature of the remaining days in the week would be 200 degrees.\n"
     ]
    }
   ],
   "execution_count": 31
  },
  {
   "metadata": {
    "ExecuteTime": {
     "end_time": "2024-05-23T10:54:39.780097Z",
     "start_time": "2024-05-23T10:54:39.773068Z"
    }
   },
   "cell_type": "code",
   "source": "print(sample['answer'])",
   "id": "6737c5bd57940db5",
   "outputs": [
    {
     "name": "stdout",
     "output_type": "stream",
     "text": [
      "140\n"
     ]
    }
   ],
   "execution_count": 32
  },
  {
   "metadata": {
    "ExecuteTime": {
     "end_time": "2024-05-21T14:52:04.946655Z",
     "start_time": "2024-05-21T14:52:04.940824Z"
    }
   },
   "cell_type": "code",
   "source": "print(sample['rationale'])",
   "id": "f0024e9eaad2b27b",
   "outputs": [
    {
     "name": "stdout",
     "output_type": "stream",
     "text": [
      "If the average temperature of Orlando for the week was 60, then the total temperature for the week was 7*60 = 420 degrees\n",
      "For the first three days of that week, the temperature was 40 degrees each day, totaling 3*40 = 120 degrees in the three days.\n",
      "The temperature for Thursday and Friday was 80 degrees each, a total of 80*2 = 160 degrees.\n",
      "The temperature of Orlando for the first five days was 160+120 = 280 degrees.\n",
      "The temperature for the remaining two days is 420-280 = 140 degrees.\n"
     ]
    }
   ],
   "execution_count": 22
  },
  {
   "metadata": {},
   "cell_type": "code",
   "outputs": [],
   "execution_count": null,
   "source": "",
   "id": "cd056016ac98f8a2"
  },
  {
   "metadata": {},
   "cell_type": "code",
   "outputs": [],
   "execution_count": null,
   "source": "",
   "id": "90509df124f212"
  },
  {
   "metadata": {},
   "cell_type": "code",
   "outputs": [],
   "execution_count": null,
   "source": "",
   "id": "7837dae2d90a90f"
  },
  {
   "metadata": {},
   "cell_type": "code",
   "outputs": [],
   "execution_count": null,
   "source": "",
   "id": "8731483df45f5446"
  }
 ],
 "metadata": {
  "kernelspec": {
   "display_name": "Python 3",
   "language": "python",
   "name": "python3"
  },
  "language_info": {
   "codemirror_mode": {
    "name": "ipython",
    "version": 2
   },
   "file_extension": ".py",
   "mimetype": "text/x-python",
   "name": "python",
   "nbconvert_exporter": "python",
   "pygments_lexer": "ipython2",
   "version": "2.7.6"
  }
 },
 "nbformat": 4,
 "nbformat_minor": 5
}
