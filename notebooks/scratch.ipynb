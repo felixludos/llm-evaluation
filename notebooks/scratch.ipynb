{
 "cells": [
  {
   "cell_type": "code",
   "id": "initial_id",
   "metadata": {
    "collapsed": true,
    "ExecuteTime": {
     "end_time": "2024-05-21T14:15:36.746024Z",
     "start_time": "2024-05-21T14:15:36.413849Z"
    }
   },
   "source": [
    "import omnifig as fig\n",
    "from meval import util\n",
    "fig.initialize()"
   ],
   "outputs": [],
   "execution_count": 1
  },
  {
   "metadata": {
    "ExecuteTime": {
     "end_time": "2024-05-21T14:15:36.751380Z",
     "start_time": "2024-05-21T14:15:36.748043Z"
    }
   },
   "cell_type": "code",
   "source": "root = util.repo_root()",
   "id": "a806520dbba8691d",
   "outputs": [],
   "execution_count": 2
  },
  {
   "metadata": {
    "ExecuteTime": {
     "end_time": "2024-05-21T14:15:36.856266Z",
     "start_time": "2024-05-21T14:15:36.752651Z"
    }
   },
   "cell_type": "code",
   "source": [
    "benchmark = fig.create_config(_type='gsm8k', path=root/'benchmarks/dev.jsonl').create()\n",
    "benchmark"
   ],
   "id": "a3fc06c7f9293c2",
   "outputs": [
    {
     "name": "stdout",
     "output_type": "stream",
     "text": [
      "| CREATING . type='gsm8k'\n",
      "| path: PosixPath('/home/fleeb/workspace/code/llm-evaluation/benchmarks/dev.jsonl')\n",
      "| kwargs: {} (by default)\n",
      "| data: None (by default)\n",
      "| index-key: 'idx' (by default)\n",
      "| kwargs: {} (by default)\n"
     ]
    },
    {
     "data": {
      "text/plain": [
       "GSM8k"
      ]
     },
     "execution_count": 3,
     "metadata": {},
     "output_type": "execute_result"
    }
   ],
   "execution_count": 3
  },
  {
   "metadata": {
    "ExecuteTime": {
     "end_time": "2024-05-21T14:15:37.811575Z",
     "start_time": "2024-05-21T14:15:37.792233Z"
    }
   },
   "cell_type": "code",
   "source": "benchmark.load()",
   "id": "b638fa6bc0d29bad",
   "outputs": [
    {
     "data": {
      "text/plain": [
       "GSM8k[1000](question, answer, rationale, expr)"
      ]
     },
     "execution_count": 4,
     "metadata": {},
     "output_type": "execute_result"
    }
   ],
   "execution_count": 4
  },
  {
   "metadata": {
    "ExecuteTime": {
     "end_time": "2024-05-21T14:15:39.023618Z",
     "start_time": "2024-05-21T14:15:39.018186Z"
    }
   },
   "cell_type": "code",
   "source": "sample = next(iter(benchmark))",
   "id": "2df82f70bfd9bca7",
   "outputs": [],
   "execution_count": 5
  },
  {
   "metadata": {
    "ExecuteTime": {
     "end_time": "2024-05-21T14:15:39.943429Z",
     "start_time": "2024-05-21T14:15:39.933853Z"
    }
   },
   "cell_type": "code",
   "source": "sample",
   "id": "f7736932b0c83d42",
   "outputs": [
    {
     "data": {
      "text/plain": [
       "Context({idx}, {question}, {answer}, {rationale}, {expr})"
      ]
     },
     "execution_count": 6,
     "metadata": {},
     "output_type": "execute_result"
    }
   ],
   "execution_count": 6
  },
  {
   "metadata": {
    "ExecuteTime": {
     "end_time": "2024-05-21T14:16:53.567007Z",
     "start_time": "2024-05-21T14:16:53.560412Z"
    }
   },
   "cell_type": "code",
   "source": "print(sample['question'])",
   "id": "6c3c5dd68748619c",
   "outputs": [
    {
     "name": "stdout",
     "output_type": "stream",
     "text": [
      "The average temperature in Orlando in a particular week was 60 degrees. If the temperature on each of the first 3 days in that week was 40, and the temperature for Thursday and Friday was 80 degrees each, calculate the total temperature of the remaining days of that week.\n"
     ]
    }
   ],
   "execution_count": 12
  },
  {
   "metadata": {
    "ExecuteTime": {
     "end_time": "2024-05-21T14:16:54.551176Z",
     "start_time": "2024-05-21T14:16:54.545337Z"
    }
   },
   "cell_type": "code",
   "source": "print(sample['answer'])",
   "id": "6737c5bd57940db5",
   "outputs": [
    {
     "name": "stdout",
     "output_type": "stream",
     "text": [
      "140\n"
     ]
    }
   ],
   "execution_count": 13
  },
  {
   "metadata": {
    "ExecuteTime": {
     "end_time": "2024-05-21T14:16:55.337571Z",
     "start_time": "2024-05-21T14:16:55.332200Z"
    }
   },
   "cell_type": "code",
   "source": "print(sample['rationale'])",
   "id": "f0024e9eaad2b27b",
   "outputs": [
    {
     "name": "stdout",
     "output_type": "stream",
     "text": [
      "If the average temperature of Orlando for the week was 60, then the total temperature for the week was 7*60 = 420 degrees\n",
      "For the first three days of that week, the temperature was 40 degrees each day, totaling 3*40 = 120 degrees in the three days.\n",
      "The temperature for Thursday and Friday was 80 degrees each, a total of 80*2 = 160 degrees.\n",
      "The temperature of Orlando for the first five days was 160+120 = 280 degrees.\n",
      "The temperature for the remaining two days is 420-280 = 140 degrees.\n"
     ]
    }
   ],
   "execution_count": 14
  },
  {
   "metadata": {},
   "cell_type": "code",
   "outputs": [],
   "execution_count": null,
   "source": "",
   "id": "d471b0d3359c2ba4"
  },
  {
   "metadata": {},
   "cell_type": "code",
   "outputs": [],
   "execution_count": null,
   "source": "",
   "id": "e09ddbd53a62fe46"
  },
  {
   "metadata": {},
   "cell_type": "code",
   "outputs": [],
   "execution_count": null,
   "source": "",
   "id": "cff188084577e343"
  },
  {
   "metadata": {},
   "cell_type": "code",
   "outputs": [],
   "execution_count": null,
   "source": "",
   "id": "8731483df45f5446"
  },
  {
   "metadata": {},
   "cell_type": "code",
   "outputs": [],
   "execution_count": null,
   "source": "",
   "id": "96fee24fcad2fe72"
  },
  {
   "metadata": {},
   "cell_type": "code",
   "outputs": [],
   "execution_count": null,
   "source": "",
   "id": "10f61641b1e4c14"
  },
  {
   "metadata": {
    "ExecuteTime": {
     "end_time": "2024-05-21T14:12:51.082566Z",
     "start_time": "2024-05-21T14:12:50.982252Z"
    }
   },
   "cell_type": "code",
   "source": "",
   "id": "1234d8527708cb22",
   "outputs": [
    {
     "ename": "GrabError",
     "evalue": "'question' failed due to: missing gadget for 'question'",
     "output_type": "error",
     "traceback": [
      "\u001B[0;31m---------------------------------------------------------------------------\u001B[0m",
      "\u001B[0;31mMissingGadget\u001B[0m                             Traceback (most recent call last)",
      "File \u001B[0;32m~/workspace/code/data-foundation/omniply/core/games.py:69\u001B[0m, in \u001B[0;36mGameBase.grab_from\u001B[0;34m(self, ctx, gizmo)\u001B[0m\n\u001B[1;32m     68\u001B[0m \u001B[38;5;28;01mtry\u001B[39;00m:\n\u001B[0;32m---> 69\u001B[0m \tout \u001B[38;5;241m=\u001B[39m \u001B[38;5;28;43mself\u001B[39;49m\u001B[38;5;241;43m.\u001B[39;49m\u001B[43m_grab\u001B[49m\u001B[43m(\u001B[49m\u001B[43mgizmo\u001B[49m\u001B[43m)\u001B[49m\n\u001B[1;32m     70\u001B[0m \u001B[38;5;28;01mexcept\u001B[39;00m \u001B[38;5;167;01mException\u001B[39;00m \u001B[38;5;28;01mas\u001B[39;00m error:\n",
      "File \u001B[0;32m~/workspace/code/data-foundation/omniply/core/games.py:55\u001B[0m, in \u001B[0;36mGameBase._grab\u001B[0;34m(self, gizmo)\u001B[0m\n\u001B[1;32m     46\u001B[0m \u001B[38;5;250m\u001B[39m\u001B[38;5;124;03m\"\"\"\u001B[39;00m\n\u001B[1;32m     47\u001B[0m \u001B[38;5;124;03mGrabs a gizmo from self.\u001B[39;00m\n\u001B[1;32m     48\u001B[0m \n\u001B[0;32m   (...)\u001B[0m\n\u001B[1;32m     53\u001B[0m \u001B[38;5;124;03m\tAny: The grabbed gizmo.\u001B[39;00m\n\u001B[1;32m     54\u001B[0m \u001B[38;5;124;03m\"\"\"\u001B[39;00m\n\u001B[0;32m---> 55\u001B[0m \u001B[38;5;28;01mreturn\u001B[39;00m \u001B[38;5;28;43msuper\u001B[39;49m\u001B[43m(\u001B[49m\u001B[43m)\u001B[49m\u001B[38;5;241;43m.\u001B[39;49m\u001B[43mgrab_from\u001B[49m\u001B[43m(\u001B[49m\u001B[38;5;28;43mself\u001B[39;49m\u001B[43m,\u001B[49m\u001B[43m \u001B[49m\u001B[43mgizmo\u001B[49m\u001B[43m)\u001B[49m\n",
      "File \u001B[0;32m~/workspace/code/data-foundation/omniply/core/gaggles.py:214\u001B[0m, in \u001B[0;36mLoopyGaggle.grab_from\u001B[0;34m(self, ctx, gizmo)\u001B[0m\n\u001B[1;32m    213\u001B[0m itr \u001B[38;5;241m=\u001B[39m \u001B[38;5;28mself\u001B[39m\u001B[38;5;241m.\u001B[39m_grabber_stack\u001B[38;5;241m.\u001B[39msetdefault(gizmo, \u001B[38;5;28mself\u001B[39m\u001B[38;5;241m.\u001B[39m_gadgets(gizmo))\n\u001B[0;32m--> 214\u001B[0m \u001B[43m\u001B[49m\u001B[38;5;28;43;01mfor\u001B[39;49;00m\u001B[43m \u001B[49m\u001B[43mgadget\u001B[49m\u001B[43m \u001B[49m\u001B[38;5;129;43;01min\u001B[39;49;00m\u001B[43m \u001B[49m\u001B[43mitr\u001B[49m\u001B[43m:\u001B[49m\n\u001B[1;32m    215\u001B[0m \u001B[43m\t\u001B[49m\u001B[38;5;28;43;01mtry\u001B[39;49;00m\u001B[43m:\u001B[49m\n",
      "File \u001B[0;32m~/workspace/code/data-foundation/omniply/core/gaggles.py:89\u001B[0m, in \u001B[0;36mGaggleBase._gadgets\u001B[0;34m(self, gizmo)\u001B[0m\n\u001B[1;32m     80\u001B[0m \u001B[38;5;250m\u001B[39m\u001B[38;5;124;03m\"\"\"\u001B[39;00m\n\u001B[1;32m     81\u001B[0m \u001B[38;5;124;03mPrivate method that returns all known subgadgets that can produce the given gizmo.\u001B[39;00m\n\u001B[1;32m     82\u001B[0m \n\u001B[0;32m   (...)\u001B[0m\n\u001B[1;32m     87\u001B[0m \u001B[38;5;124;03m\tIterator[AbstractGadget]: An iterator over the gadgets that can produce the given gizmo.\u001B[39;00m\n\u001B[1;32m     88\u001B[0m \u001B[38;5;124;03m\"\"\"\u001B[39;00m\n\u001B[0;32m---> 89\u001B[0m \u001B[43m\u001B[49m\u001B[38;5;28;43;01mfor\u001B[39;49;00m\u001B[43m \u001B[49m\u001B[43mvendor\u001B[49m\u001B[43m \u001B[49m\u001B[38;5;129;43;01min\u001B[39;49;00m\u001B[43m \u001B[49m\u001B[38;5;28;43mself\u001B[39;49m\u001B[38;5;241;43m.\u001B[39;49m\u001B[43mvendors\u001B[49m\u001B[43m(\u001B[49m\u001B[43mgizmo\u001B[49m\u001B[43m)\u001B[49m\u001B[43m:\u001B[49m\n\u001B[1;32m     90\u001B[0m \u001B[43m\t\u001B[49m\u001B[38;5;28;43;01mif\u001B[39;49;00m\u001B[43m \u001B[49m\u001B[38;5;28;43misinstance\u001B[39;49m\u001B[43m(\u001B[49m\u001B[43mvendor\u001B[49m\u001B[43m,\u001B[49m\u001B[43m \u001B[49m\u001B[43mAbstractGaggle\u001B[49m\u001B[43m)\u001B[49m\u001B[43m:\u001B[49m\n",
      "File \u001B[0;32m~/workspace/code/data-foundation/omniply/core/gaggles.py:75\u001B[0m, in \u001B[0;36mGaggleBase.vendors\u001B[0;34m(self, gizmo)\u001B[0m\n\u001B[1;32m     74\u001B[0m \u001B[38;5;28;01mif\u001B[39;00m gizmo \u001B[38;5;129;01mnot\u001B[39;00m \u001B[38;5;129;01min\u001B[39;00m \u001B[38;5;28mself\u001B[39m\u001B[38;5;241m.\u001B[39m_gadgets_table:\n\u001B[0;32m---> 75\u001B[0m \t\u001B[38;5;28;01mraise\u001B[39;00m \u001B[38;5;28mself\u001B[39m\u001B[38;5;241m.\u001B[39m_MissingGadgetError(gizmo)\n\u001B[1;32m     76\u001B[0m \u001B[38;5;28;01myield from\u001B[39;00m \u001B[38;5;28mreversed\u001B[39m(\u001B[38;5;28mself\u001B[39m\u001B[38;5;241m.\u001B[39m_gadgets_table[gizmo])\n",
      "\u001B[0;31mMissingGadget\u001B[0m: 'question'",
      "\nThe above exception was the direct cause of the following exception:\n",
      "\u001B[0;31mGrabError\u001B[0m                                 Traceback (most recent call last)",
      "Cell \u001B[0;32mIn[11], line 1\u001B[0m\n\u001B[0;32m----> 1\u001B[0m \u001B[43msample\u001B[49m\u001B[43m[\u001B[49m\u001B[38;5;124;43m'\u001B[39;49m\u001B[38;5;124;43mquestion\u001B[39;49m\u001B[38;5;124;43m'\u001B[39;49m\u001B[43m]\u001B[49m\n",
      "File \u001B[0;32m~/workspace/code/data-foundation/omniply/core/op.py:108\u001B[0m, in \u001B[0;36mContext.__getitem__\u001B[0;34m(self, item)\u001B[0m\n\u001B[1;32m     98\u001B[0m \u001B[38;5;28;01mdef\u001B[39;00m \u001B[38;5;21m__getitem__\u001B[39m(\u001B[38;5;28mself\u001B[39m, item):\n\u001B[1;32m     99\u001B[0m \u001B[38;5;250m\t\u001B[39m\u001B[38;5;124;03m\"\"\"\u001B[39;00m\n\u001B[1;32m    100\u001B[0m \u001B[38;5;124;03m\tReturns the grabbed item from the context.\u001B[39;00m\n\u001B[1;32m    101\u001B[0m \n\u001B[0;32m   (...)\u001B[0m\n\u001B[1;32m    106\u001B[0m \u001B[38;5;124;03m\t\tAny: The grabbed item from the context.\u001B[39;00m\n\u001B[1;32m    107\u001B[0m \u001B[38;5;124;03m\t\"\"\"\u001B[39;00m\n\u001B[0;32m--> 108\u001B[0m \t\u001B[38;5;28;01mreturn\u001B[39;00m \u001B[38;5;28;43mself\u001B[39;49m\u001B[38;5;241;43m.\u001B[39;49m\u001B[43mgrab\u001B[49m\u001B[43m(\u001B[49m\u001B[43mitem\u001B[49m\u001B[43m)\u001B[49m\n",
      "File \u001B[0;32m~/workspace/code/data-foundation/omniply/core/abstract.py:208\u001B[0m, in \u001B[0;36mAbstractGame.grab\u001B[0;34m(self, gizmo, default)\u001B[0m\n\u001B[1;32m    192\u001B[0m \u001B[38;5;250m\u001B[39m\u001B[38;5;124;03m\"\"\"\u001B[39;00m\n\u001B[1;32m    193\u001B[0m \u001B[38;5;124;03mConvenience function for grab_from to match dict.get API. It returns the given gizmo from this gadget,\u001B[39;00m\n\u001B[1;32m    194\u001B[0m \u001B[38;5;124;03mor raises ToolFailedError if the gizmo cannot be grabbed and no default value is provided.\u001B[39;00m\n\u001B[0;32m   (...)\u001B[0m\n\u001B[1;32m    205\u001B[0m \u001B[38;5;124;03m\tAbstractGadgetError: If the gizmo cannot be grabbed and no default value is provided.\u001B[39;00m\n\u001B[1;32m    206\u001B[0m \u001B[38;5;124;03m\"\"\"\u001B[39;00m\n\u001B[1;32m    207\u001B[0m \u001B[38;5;28;01mtry\u001B[39;00m:\n\u001B[0;32m--> 208\u001B[0m \t\u001B[38;5;28;01mreturn\u001B[39;00m \u001B[38;5;28;43mself\u001B[39;49m\u001B[38;5;241;43m.\u001B[39;49m\u001B[43mgrab_from\u001B[49m\u001B[43m(\u001B[49m\u001B[38;5;28;43;01mNone\u001B[39;49;00m\u001B[43m,\u001B[49m\u001B[43m \u001B[49m\u001B[43mgizmo\u001B[49m\u001B[43m)\u001B[49m\n\u001B[1;32m    209\u001B[0m \u001B[38;5;28;01mexcept\u001B[39;00m AbstractGadgetError:\n\u001B[1;32m    210\u001B[0m \t\u001B[38;5;28;01mif\u001B[39;00m default \u001B[38;5;129;01mis\u001B[39;00m _unique_game_default_value:\n",
      "File \u001B[0;32m~/workspace/code/data-foundation/omniply/core/games.py:330\u001B[0m, in \u001B[0;36mTraceGame.grab_from\u001B[0;34m(self, ctx, gizmo)\u001B[0m\n\u001B[1;32m    329\u001B[0m \u001B[38;5;28;01mdef\u001B[39;00m \u001B[38;5;21mgrab_from\u001B[39m(\u001B[38;5;28mself\u001B[39m, ctx: Optional[AbstractGame], gizmo: \u001B[38;5;28mstr\u001B[39m) \u001B[38;5;241m-\u001B[39m\u001B[38;5;241m>\u001B[39m Any:\n\u001B[0;32m--> 330\u001B[0m \tval \u001B[38;5;241m=\u001B[39m \u001B[38;5;28;43msuper\u001B[39;49m\u001B[43m(\u001B[49m\u001B[43m)\u001B[49m\u001B[38;5;241;43m.\u001B[39;49m\u001B[43mgrab_from\u001B[49m\u001B[43m(\u001B[49m\u001B[43mctx\u001B[49m\u001B[43m,\u001B[49m\u001B[43m \u001B[49m\u001B[43mgizmo\u001B[49m\u001B[43m)\u001B[49m\n\u001B[1;32m    331\u001B[0m \t\u001B[38;5;28;01mif\u001B[39;00m \u001B[38;5;28mlen\u001B[39m(\u001B[38;5;28mself\u001B[39m\u001B[38;5;241m.\u001B[39m_partial_grabs):\n\u001B[1;32m    332\u001B[0m \t\t\u001B[38;5;28mself\u001B[39m\u001B[38;5;241m.\u001B[39m_products\u001B[38;5;241m.\u001B[39msetdefault(gizmo, \u001B[38;5;28mset\u001B[39m())\u001B[38;5;241m.\u001B[39madd(\u001B[38;5;28mself\u001B[39m\u001B[38;5;241m.\u001B[39m_partial_grabs[\u001B[38;5;241m-\u001B[39m\u001B[38;5;241m1\u001B[39m])\n",
      "File \u001B[0;32m~/workspace/code/data-foundation/omniply/core/games.py:194\u001B[0m, in \u001B[0;36mCacheGame.grab_from\u001B[0;34m(self, ctx, gizmo)\u001B[0m\n\u001B[1;32m    192\u001B[0m \u001B[38;5;28;01mif\u001B[39;00m gizmo \u001B[38;5;129;01min\u001B[39;00m \u001B[38;5;28mself\u001B[39m\u001B[38;5;241m.\u001B[39mdata:\n\u001B[1;32m    193\u001B[0m \t\u001B[38;5;28;01mreturn\u001B[39;00m \u001B[38;5;28mself\u001B[39m\u001B[38;5;241m.\u001B[39mdata[gizmo]\n\u001B[0;32m--> 194\u001B[0m val \u001B[38;5;241m=\u001B[39m \u001B[38;5;28;43mself\u001B[39;49m\u001B[38;5;241;43m.\u001B[39;49m\u001B[43m_cache_miss\u001B[49m\u001B[43m(\u001B[49m\u001B[43mctx\u001B[49m\u001B[43m,\u001B[49m\u001B[43m \u001B[49m\u001B[43mgizmo\u001B[49m\u001B[43m)\u001B[49m\n\u001B[1;32m    195\u001B[0m \u001B[38;5;28mself\u001B[39m[gizmo] \u001B[38;5;241m=\u001B[39m val  \u001B[38;5;66;03m# cache packaged val\u001B[39;00m\n\u001B[1;32m    196\u001B[0m \u001B[38;5;28;01mreturn\u001B[39;00m val\n",
      "File \u001B[0;32m~/workspace/code/data-foundation/omniply/core/games.py:321\u001B[0m, in \u001B[0;36mTraceGame._cache_miss\u001B[0;34m(self, ctx, gizmo)\u001B[0m\n\u001B[1;32m    319\u001B[0m \u001B[38;5;28mself\u001B[39m\u001B[38;5;241m.\u001B[39m_partial_grabs\u001B[38;5;241m.\u001B[39mappend(gizmo)\n\u001B[1;32m    320\u001B[0m \u001B[38;5;28;01mtry\u001B[39;00m:\n\u001B[0;32m--> 321\u001B[0m \tval \u001B[38;5;241m=\u001B[39m \u001B[38;5;28;43msuper\u001B[39;49m\u001B[43m(\u001B[49m\u001B[43m)\u001B[49m\u001B[38;5;241;43m.\u001B[39;49m\u001B[43m_cache_miss\u001B[49m\u001B[43m(\u001B[49m\u001B[43mctx\u001B[49m\u001B[43m,\u001B[49m\u001B[43m \u001B[49m\u001B[43mgizmo\u001B[49m\u001B[43m)\u001B[49m\n\u001B[1;32m    322\u001B[0m \u001B[38;5;28;01mfinally\u001B[39;00m:\n\u001B[1;32m    323\u001B[0m \t\u001B[38;5;28mself\u001B[39m\u001B[38;5;241m.\u001B[39m_partial_grabs\u001B[38;5;241m.\u001B[39mpop()\n",
      "File \u001B[0;32m~/workspace/code/data-foundation/omniply/core/games.py:179\u001B[0m, in \u001B[0;36mCacheGame._cache_miss\u001B[0;34m(self, ctx, gizmo)\u001B[0m\n\u001B[1;32m    169\u001B[0m \u001B[38;5;28;01mdef\u001B[39;00m \u001B[38;5;21m_cache_miss\u001B[39m(\u001B[38;5;28mself\u001B[39m, ctx: Optional[AbstractGame], gizmo: \u001B[38;5;28mstr\u001B[39m) \u001B[38;5;241m-\u001B[39m\u001B[38;5;241m>\u001B[39m Any:\n\u001B[1;32m    170\u001B[0m \u001B[38;5;250m\t\u001B[39m\u001B[38;5;124;03m\"\"\"\u001B[39;00m\n\u001B[1;32m    171\u001B[0m \u001B[38;5;124;03m\tHandles a cache miss.\u001B[39;00m\n\u001B[1;32m    172\u001B[0m \n\u001B[0;32m   (...)\u001B[0m\n\u001B[1;32m    177\u001B[0m \u001B[38;5;124;03m\t\tAssemblyError: Always.\u001B[39;00m\n\u001B[1;32m    178\u001B[0m \u001B[38;5;124;03m\t\"\"\"\u001B[39;00m\n\u001B[0;32m--> 179\u001B[0m \t\u001B[38;5;28;01mreturn\u001B[39;00m \u001B[38;5;28;43msuper\u001B[39;49m\u001B[43m(\u001B[49m\u001B[43m)\u001B[49m\u001B[38;5;241;43m.\u001B[39;49m\u001B[43mgrab_from\u001B[49m\u001B[43m(\u001B[49m\u001B[43mctx\u001B[49m\u001B[43m,\u001B[49m\u001B[43m \u001B[49m\u001B[43mgizmo\u001B[49m\u001B[43m)\u001B[49m\n",
      "File \u001B[0;32m~/workspace/code/data-foundation/omniply/core/games.py:71\u001B[0m, in \u001B[0;36mGameBase.grab_from\u001B[0;34m(self, ctx, gizmo)\u001B[0m\n\u001B[1;32m     69\u001B[0m \tout \u001B[38;5;241m=\u001B[39m \u001B[38;5;28mself\u001B[39m\u001B[38;5;241m.\u001B[39m_grab(gizmo)\n\u001B[1;32m     70\u001B[0m \u001B[38;5;28;01mexcept\u001B[39;00m \u001B[38;5;167;01mException\u001B[39;00m \u001B[38;5;28;01mas\u001B[39;00m error:\n\u001B[0;32m---> 71\u001B[0m \tout \u001B[38;5;241m=\u001B[39m \u001B[38;5;28;43mself\u001B[39;49m\u001B[38;5;241;43m.\u001B[39;49m\u001B[43m_grab_from_fallback\u001B[49m\u001B[43m(\u001B[49m\u001B[43merror\u001B[49m\u001B[43m,\u001B[49m\u001B[43m \u001B[49m\u001B[43mctx\u001B[49m\u001B[43m,\u001B[49m\u001B[43m \u001B[49m\u001B[43mgizmo\u001B[49m\u001B[43m)\u001B[49m\n\u001B[1;32m     72\u001B[0m \u001B[38;5;28;01mreturn\u001B[39;00m \u001B[38;5;28mself\u001B[39m\u001B[38;5;241m.\u001B[39mpackage(out, gizmo\u001B[38;5;241m=\u001B[39mgizmo)\n",
      "File \u001B[0;32m~/workspace/code/data-foundation/omniply/core/games.py:40\u001B[0m, in \u001B[0;36mGameBase._grab_from_fallback\u001B[0;34m(self, error, ctx, gizmo)\u001B[0m\n\u001B[1;32m     38\u001B[0m \u001B[38;5;28;01mif\u001B[39;00m \u001B[38;5;28misinstance\u001B[39m(error, AbstractGadgetError):\n\u001B[1;32m     39\u001B[0m \t\u001B[38;5;28;01mif\u001B[39;00m \u001B[38;5;28misinstance\u001B[39m(error, GrabError) \u001B[38;5;129;01mor\u001B[39;00m ctx \u001B[38;5;129;01mis\u001B[39;00m \u001B[38;5;28;01mNone\u001B[39;00m \u001B[38;5;129;01mor\u001B[39;00m ctx \u001B[38;5;129;01mis\u001B[39;00m \u001B[38;5;28mself\u001B[39m:\n\u001B[0;32m---> 40\u001B[0m \t\t\u001B[38;5;28;01mraise\u001B[39;00m \u001B[38;5;28mself\u001B[39m\u001B[38;5;241m.\u001B[39m_GrabError(gizmo, error) \u001B[38;5;28;01mfrom\u001B[39;00m \u001B[38;5;21;01merror\u001B[39;00m\n\u001B[1;32m     41\u001B[0m \t\u001B[38;5;28;01melse\u001B[39;00m:\n\u001B[1;32m     42\u001B[0m \t\t\u001B[38;5;28;01mreturn\u001B[39;00m ctx\u001B[38;5;241m.\u001B[39mgrab(gizmo)\n",
      "\u001B[0;31mGrabError\u001B[0m: 'question' failed due to: missing gadget for 'question'"
     ]
    }
   ],
   "execution_count": 11
  }
 ],
 "metadata": {
  "kernelspec": {
   "display_name": "Python 3",
   "language": "python",
   "name": "python3"
  },
  "language_info": {
   "codemirror_mode": {
    "name": "ipython",
    "version": 2
   },
   "file_extension": ".py",
   "mimetype": "text/x-python",
   "name": "python",
   "nbconvert_exporter": "python",
   "pygments_lexer": "ipython2",
   "version": "2.7.6"
  }
 },
 "nbformat": 4,
 "nbformat_minor": 5
}
