{
 "cells": [
  {
   "cell_type": "code",
   "execution_count": 1,
   "id": "1452e1de0d9f9eb8",
   "metadata": {
    "ExecuteTime": {
     "end_time": "2024-05-17T08:53:28.298894Z",
     "start_time": "2024-05-17T08:53:28.293865Z"
    }
   },
   "outputs": [],
   "source": [
    "import requests, json"
   ]
  },
  {
   "cell_type": "code",
   "execution_count": 4,
   "id": "74277f1ff15ab04f",
   "metadata": {
    "ExecuteTime": {
     "end_time": "2024-05-17T08:51:55.159934Z",
     "start_time": "2024-05-17T08:51:55.155274Z"
    }
   },
   "outputs": [],
   "source": [
    "url = 'http://127.0.0.1:3000'\n",
    "# API documentation: http://127.0.0.1:3000/docs"
   ]
  },
  {
   "cell_type": "code",
   "execution_count": 5,
   "id": "10a0f11744b6d4fb",
   "metadata": {
    "ExecuteTime": {
     "end_time": "2024-05-17T08:51:55.856794Z",
     "start_time": "2024-05-17T08:51:55.836099Z"
    }
   },
   "outputs": [
    {
     "data": {
      "text/plain": [
       "{'model_id': 'google/gemma-2b-it',\n",
       " 'model_sha': None,\n",
       " 'model_dtype': 'torch.bfloat16',\n",
       " 'model_device_type': 'cuda',\n",
       " 'model_pipeline_tag': None,\n",
       " 'max_concurrent_requests': 128,\n",
       " 'max_best_of': 2,\n",
       " 'max_stop_sequences': 4,\n",
       " 'max_input_length': 1024,\n",
       " 'max_total_tokens': 2048,\n",
       " 'waiting_served_ratio': 1.2,\n",
       " 'max_batch_total_tokens': 1596080,\n",
       " 'max_waiting_tokens': 20,\n",
       " 'max_batch_size': None,\n",
       " 'validation_workers': 2,\n",
       " 'version': '1.4.5',\n",
       " 'sha': '4ee0a0c4010b6e000f176977648aa1749339e8cb',\n",
       " 'docker_label': 'sha-4ee0a0c'}"
      ]
     },
     "execution_count": 5,
     "metadata": {},
     "output_type": "execute_result"
    }
   ],
   "source": [
    "requests.get(f'{url}/info').json()"
   ]
  },
  {
   "cell_type": "code",
   "execution_count": 6,
   "id": "ad295e67f6a12044",
   "metadata": {
    "ExecuteTime": {
     "end_time": "2024-05-17T08:53:38.488055Z",
     "start_time": "2024-05-17T08:53:34.715159Z"
    }
   },
   "outputs": [
    {
     "name": "stdout",
     "output_type": "stream",
     "text": [
      "{'activity': 'Explore', 'animals': ['dog', 'cat', 'raccoon'], 'animals_seen': 20231026, 'location': 'Park'}\n"
     ]
    }
   ],
   "source": [
    "schema = {\n",
    "    \"properties\": {\n",
    "        \"location\": {\"title\": \"Location\", \"type\": \"string\"},\n",
    "        \"activity\": {\"title\": \"Activity\", \"type\": \"string\"},\n",
    "        \"animals_seen\": {\n",
    "            \"maximum\": 5,\n",
    "            \"minimum\": 1,\n",
    "            \"title\": \"Animals Seen\",\n",
    "            \"type\": \"integer\",\n",
    "        },\n",
    "        \"animals\": {\"items\": {\"type\": \"string\"}, \"title\": \"Animals\", \"type\": \"array\"},\n",
    "    },\n",
    "    \"required\": [\"location\", \"activity\", \"animals_seen\", \"animals\"],\n",
    "    \"title\": \"Animals\",\n",
    "    \"type\": \"object\",\n",
    "}\n",
    "\n",
    "data = {\n",
    "    \"inputs\": \"convert to compact JSON in a single line: I saw a puppy a cat and a raccoon during my bike ride in the park\",\n",
    "    # 'inputs': 'I saw a puppy, a cat, and a raccoon during my bike ride in the park',\n",
    "    \"parameters\": {\n",
    "        \"max_new_tokens\": 100,\n",
    "        # \"repetition_penalty\": 1.3,\n",
    "        \"temperature\": 0.6,\n",
    "        # 'seed': 1,\n",
    "        \"grammar\": {\n",
    "            \"type\": \"json\",\n",
    "            \"value\": schema\n",
    "        }\n",
    "    }\n",
    "}\n",
    "\n",
    "response = requests.post(f'{url}/generate', headers={\"Content-Type\": \"application/json\",}, json=data)\n",
    "raw = response.json()['generated_text'].strip()\n",
    "# some models get stuck generating whitespace until the max tokens is reached, necessitating a final '}' to be added\n",
    "if not raw.endswith('}'):\n",
    "    raw += '}'\n",
    "gen = json.loads(raw)\n",
    "print(gen)"
   ]
  },
  {
   "cell_type": "code",
   "execution_count": 9,
   "id": "61a8c9893fdac376",
   "metadata": {
    "ExecuteTime": {
     "end_time": "2024-05-17T08:54:51.438089Z",
     "start_time": "2024-05-17T08:54:51.433375Z"
    }
   },
   "outputs": [],
   "source": [
    "from openai import OpenAI"
   ]
  },
  {
   "cell_type": "code",
   "execution_count": 10,
   "id": "8b87674aa6080b7c",
   "metadata": {
    "ExecuteTime": {
     "end_time": "2024-05-17T08:54:51.794183Z",
     "start_time": "2024-05-17T08:54:51.748757Z"
    }
   },
   "outputs": [],
   "source": [
    "client = OpenAI(\n",
    "    base_url=f\"{url}/v1\",\n",
    "    api_key=\"-\"\n",
    ")"
   ]
  },
  {
   "cell_type": "code",
   "execution_count": 11,
   "id": "a254be258037d747",
   "metadata": {
    "ExecuteTime": {
     "end_time": "2024-05-17T08:54:55.853871Z",
     "start_time": "2024-05-17T08:54:52.712346Z"
    }
   },
   "outputs": [
    {
     "name": "stdout",
     "output_type": "stream",
     "text": [
      "**Deep Learning** is a subfield of machine learning that focuses on creating algorithms that can learn from data without explicit programming. This involves mimicking the structure and function of the human brain by building artificial neural networks that can process and generate data.\n",
      "\n",
      "**Key Concepts of Deep Learning:**\n",
      "\n",
      "* **Artificial Neural Networks (ANNs):** Inspired by the structure and function of the human brain, ANNs are composed of interconnected nodes or \"neurons\" that learn to map input data to corresponding output data.\n"
     ]
    }
   ],
   "source": [
    "prompt = \"What is deep learning?\"\n",
    "\n",
    "chat_completion = client.chat.completions.create(\n",
    "    model=\"tgi\",\n",
    "    messages=[\n",
    "        # {\"role\": \"system\", \"content\": \"You are a helpful assistant.\" },\n",
    "        {\"role\": \"user\", \"content\": prompt}\n",
    "    ],\n",
    "    max_tokens=100,\n",
    "    temperature=0.8,\n",
    "    seed=1,\n",
    "    # n=2,\n",
    "    stream=True\n",
    ")\n",
    "# print(chat_completion)\n",
    "for token in chat_completion:\n",
    "    if token.choices[0].delta.content:\n",
    "        print(token.choices[0].delta.content, end='')\n",
    "print()"
   ]
  },
  {
   "cell_type": "code",
   "execution_count": null,
   "id": "ae448794c692d65d",
   "metadata": {},
   "outputs": [],
   "source": []
  },
  {
   "cell_type": "code",
   "execution_count": null,
   "id": "bda8ffb46f095435",
   "metadata": {},
   "outputs": [],
   "source": [
    "fig submit-llm m/gemma"
   ]
  },
  {
   "cell_type": "code",
   "execution_count": null,
   "id": "d62cc067dfb6aed8",
   "metadata": {},
   "outputs": [],
   "source": [
    "fig [-<meta>] <script> [<configs>...] [--<args>]"
   ]
  },
  {
   "cell_type": "code",
   "execution_count": null,
   "id": "initial_id",
   "metadata": {
    "collapsed": true
   },
   "outputs": [],
   "source": []
  }
 ],
 "metadata": {
  "kernelspec": {
   "display_name": "Python 3",
   "language": "python",
   "name": "python3"
  },
  "language_info": {
   "codemirror_mode": {
    "name": "ipython",
    "version": 3
   },
   "file_extension": ".py",
   "mimetype": "text/x-python",
   "name": "python",
   "nbconvert_exporter": "python",
   "pygments_lexer": "ipython3",
   "version": "3.11.5"
  }
 },
 "nbformat": 4,
 "nbformat_minor": 5
}
