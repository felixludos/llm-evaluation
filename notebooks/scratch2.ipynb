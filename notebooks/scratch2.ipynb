{
 "cells": [
  {
   "metadata": {
    "ExecuteTime": {
     "end_time": "2025-03-01T22:31:09.390566Z",
     "start_time": "2025-03-01T22:31:09.366490Z"
    }
   },
   "cell_type": "code",
   "source": "from RestrictedPython import compile_restricted",
   "id": "7f27d4cb16988b2f",
   "outputs": [],
   "execution_count": 3
  },
  {
   "metadata": {
    "ExecuteTime": {
     "end_time": "2025-03-01T22:29:26.199319Z",
     "start_time": "2025-03-01T22:29:26.189597Z"
    }
   },
   "cell_type": "code",
   "source": [
    "(\n",
    "\t[1, 'hello'],\n",
    "\tTrue\n",
    ")"
   ],
   "id": "290bb091f78d3927",
   "outputs": [
    {
     "data": {
      "text/plain": [
       "([1, 'hello'], True)"
      ]
     },
     "execution_count": 1,
     "metadata": {},
     "output_type": "execute_result"
    }
   ],
   "execution_count": 1
  },
  {
   "metadata": {
    "ExecuteTime": {
     "end_time": "2025-03-01T22:29:37.344208Z",
     "start_time": "2025-03-01T22:29:37.339208Z"
    }
   },
   "cell_type": "code",
   "source": [
    "dat = '''(\n",
    "\t[1, 'hello'],\n",
    "\tTrue\n",
    ")'''"
   ],
   "id": "501b2207937d40f3",
   "outputs": [],
   "execution_count": 2
  },
  {
   "metadata": {
    "ExecuteTime": {
     "end_time": "2025-03-01T22:32:24.190394Z",
     "start_time": "2025-03-01T22:32:24.181934Z"
    }
   },
   "cell_type": "code",
   "source": "eval(compile_restricted(dat, \"<string>\", \"eval\"))",
   "id": "f3b1bacdc519a3aa",
   "outputs": [
    {
     "data": {
      "text/plain": [
       "([1, 'hello'], True)"
      ]
     },
     "execution_count": 9,
     "metadata": {},
     "output_type": "execute_result"
    }
   ],
   "execution_count": 9
  },
  {
   "metadata": {},
   "cell_type": "code",
   "outputs": [],
   "execution_count": null,
   "source": "",
   "id": "87870695f8f1fddf"
  },
  {
   "metadata": {
    "ExecuteTime": {
     "end_time": "2025-03-01T22:33:35.474882Z",
     "start_time": "2025-03-01T22:33:35.468883Z"
    }
   },
   "cell_type": "code",
   "source": [
    "safe_code = \"\"\"\n",
    "def safe_function():\n",
    "    return \"Hello from sandbox!\"\n",
    "result2 = safe_function()\n",
    "\"\"\"\n",
    "\n",
    "# compiled_code = compile_restricted(safe_code, \"<string>\", \"exec\")\n",
    "# exec(compiled_code)"
   ],
   "id": "b418fe8cd643697",
   "outputs": [],
   "execution_count": 15
  },
  {
   "metadata": {
    "ExecuteTime": {
     "end_time": "2025-03-01T22:33:41.724528Z",
     "start_time": "2025-03-01T22:33:41.718860Z"
    }
   },
   "cell_type": "code",
   "source": [
    "compile_restricted(safe_code, \"<string>\", \"exec\")\n",
    "result2"
   ],
   "id": "8cbaee967cf7e8c1",
   "outputs": [
    {
     "data": {
      "text/plain": [
       "'Hello from sandbox!'"
      ]
     },
     "execution_count": 17,
     "metadata": {},
     "output_type": "execute_result"
    }
   ],
   "execution_count": 17
  },
  {
   "metadata": {},
   "cell_type": "code",
   "outputs": [],
   "execution_count": null,
   "source": "",
   "id": "ad0e15b3bea89709"
  },
  {
   "cell_type": "code",
   "execution_count": null,
   "id": "initial_id",
   "metadata": {
    "collapsed": true
   },
   "outputs": [],
   "source": [
    ""
   ]
  }
 ],
 "metadata": {
  "kernelspec": {
   "display_name": "Python 3",
   "language": "python",
   "name": "python3"
  },
  "language_info": {
   "codemirror_mode": {
    "name": "ipython",
    "version": 2
   },
   "file_extension": ".py",
   "mimetype": "text/x-python",
   "name": "python",
   "nbconvert_exporter": "python",
   "pygments_lexer": "ipython2",
   "version": "2.7.6"
  }
 },
 "nbformat": 4,
 "nbformat_minor": 5
}
