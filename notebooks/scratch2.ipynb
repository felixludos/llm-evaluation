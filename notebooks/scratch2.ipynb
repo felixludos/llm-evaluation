{
 "cells": [
  {
   "metadata": {
    "ExecuteTime": {
     "end_time": "2025-03-03T14:52:20.750950Z",
     "start_time": "2025-03-03T14:52:20.746026Z"
    }
   },
   "cell_type": "code",
   "source": [
    "from pathlib import Path\n",
    "import csv, json, re\n",
    "import omnifig as fig\n",
    "from meval.datasets import SingleMMLU\n",
    "from omnibelt import colorize\n",
    "fig.initialize()"
   ],
   "id": "371011eebcbc1c08",
   "outputs": [],
   "execution_count": 10
  },
  {
   "metadata": {
    "ExecuteTime": {
     "end_time": "2025-03-03T14:51:14.758589Z",
     "start_time": "2025-03-03T14:51:14.750543Z"
    }
   },
   "cell_type": "code",
   "source": [
    "path = Path('../../clones/mmlu/data/conceptual_physics_dev.csv')\n",
    "path.exists()"
   ],
   "id": "95f1cf44ce0ec983",
   "outputs": [
    {
     "data": {
      "text/plain": [
       "True"
      ]
     },
     "execution_count": 2,
     "metadata": {},
     "output_type": "execute_result"
    }
   ],
   "execution_count": 2
  },
  {
   "metadata": {
    "ExecuteTime": {
     "end_time": "2025-03-03T14:51:14.840218Z",
     "start_time": "2025-03-03T14:51:14.828033Z"
    }
   },
   "cell_type": "code",
   "source": [
    "dataset = SingleMMLU(path=path)\n",
    "dataset.load()"
   ],
   "id": "f36a3fc251a4b9a9",
   "outputs": [
    {
     "data": {
      "text/plain": [
       "SingleMMLU[5](question, choices, answer)"
      ]
     },
     "execution_count": 3,
     "metadata": {},
     "output_type": "execute_result"
    }
   ],
   "execution_count": 3
  },
  {
   "metadata": {
    "ExecuteTime": {
     "end_time": "2025-03-03T14:52:35.426306Z",
     "start_time": "2025-03-03T14:52:35.420209Z"
    }
   },
   "cell_type": "code",
   "source": [
    "ctx = dataset.sample()\n",
    "print(ctx['question'])\n",
    "print('\\n'.join(colorize(c, 'green' if i == ctx['answer'] else 'red') for i, c in enumerate(ctx['choices'])))"
   ],
   "id": "b4c3509c51b32aed",
   "outputs": [
    {
     "name": "stdout",
     "output_type": "stream",
     "text": [
      "Things that are equivalent according to the equivalence principle are\n",
      "\u001B[91mspace and time.\u001B[0m\n",
      "\u001B[91ma traveling twin and a stay-at-home twin.\u001B[0m\n",
      "\u001B[92mgravity and acceleration.\u001B[0m\n",
      "\u001B[91mmass and energy.\u001B[0m\n"
     ]
    }
   ],
   "execution_count": 16
  },
  {
   "metadata": {},
   "cell_type": "code",
   "outputs": [],
   "execution_count": null,
   "source": "",
   "id": "e73d7fb9eb4bbbbb"
  },
  {
   "metadata": {
    "ExecuteTime": {
     "end_time": "2025-03-03T11:42:16.606840Z",
     "start_time": "2025-03-03T11:42:16.599931Z"
    }
   },
   "cell_type": "code",
   "source": [
    "data = list(csv.DictReader(path.open('r')))\n",
    "len(data)"
   ],
   "id": "a2b6ea7017ca751d",
   "outputs": [
    {
     "data": {
      "text/plain": [
       "4"
      ]
     },
     "execution_count": 10,
     "metadata": {},
     "output_type": "execute_result"
    }
   ],
   "execution_count": 10
  },
  {
   "metadata": {
    "ExecuteTime": {
     "end_time": "2025-03-03T11:42:20.950478Z",
     "start_time": "2025-03-03T11:42:20.943298Z"
    }
   },
   "cell_type": "code",
   "source": "data",
   "id": "7503d51a990d9b67",
   "outputs": [
    {
     "data": {
      "text/plain": [
       "[{'Compared with the mass of a uranium atom undergoing fission, the combined masses of the products after fission are': 'Things that are equivalent according to the equivalence principle are',\n",
       "  'less': 'space and time.',\n",
       "  'more': 'a traveling twin and a stay-at-home twin.',\n",
       "  'the same': 'gravity and acceleration.',\n",
       "  'zero': 'mass and energy.',\n",
       "  'A': 'C'},\n",
       " {'Compared with the mass of a uranium atom undergoing fission, the combined masses of the products after fission are': 'Colors in a soap bubble result from light',\n",
       "  'less': 'converted to a different frequency',\n",
       "  'more': 'deflection',\n",
       "  'the same': 'interference',\n",
       "  'zero': 'polarization',\n",
       "  'A': 'C'},\n",
       " {'Compared with the mass of a uranium atom undergoing fission, the combined masses of the products after fission are': 'A model airplane flies slower when flying into the wind and faster with wind at its back. When launched at right angles to the wind a cross wind its groundspeed compared with flying in still air is',\n",
       "  'less': 'the same',\n",
       "  'more': 'greater',\n",
       "  'the same': 'less',\n",
       "  'zero': 'either greater or less depending on wind speed',\n",
       "  'A': 'B'},\n",
       " {'Compared with the mass of a uranium atom undergoing fission, the combined masses of the products after fission are': 'Which of these three elements has the most mass per nucleon?',\n",
       "  'less': 'Hydrogen',\n",
       "  'more': 'Iron',\n",
       "  'the same': 'Uranium',\n",
       "  'zero': 'Same in each',\n",
       "  'A': 'A'}]"
      ]
     },
     "execution_count": 11,
     "metadata": {},
     "output_type": "execute_result"
    }
   ],
   "execution_count": 11
  },
  {
   "metadata": {},
   "cell_type": "code",
   "outputs": [],
   "execution_count": null,
   "source": "",
   "id": "f2b4504d9048bac4"
  },
  {
   "metadata": {
    "ExecuteTime": {
     "end_time": "2025-03-01T22:31:09.390566Z",
     "start_time": "2025-03-01T22:31:09.366490Z"
    }
   },
   "cell_type": "code",
   "source": "from RestrictedPython import compile_restricted",
   "id": "7f27d4cb16988b2f",
   "outputs": [],
   "execution_count": 3
  },
  {
   "metadata": {
    "ExecuteTime": {
     "end_time": "2025-03-01T22:29:26.199319Z",
     "start_time": "2025-03-01T22:29:26.189597Z"
    }
   },
   "cell_type": "code",
   "source": [
    "(\n",
    "\t[1, 'hello'],\n",
    "\tTrue\n",
    ")"
   ],
   "id": "290bb091f78d3927",
   "outputs": [
    {
     "data": {
      "text/plain": [
       "([1, 'hello'], True)"
      ]
     },
     "execution_count": 1,
     "metadata": {},
     "output_type": "execute_result"
    }
   ],
   "execution_count": 1
  },
  {
   "metadata": {
    "ExecuteTime": {
     "end_time": "2025-03-01T22:29:37.344208Z",
     "start_time": "2025-03-01T22:29:37.339208Z"
    }
   },
   "cell_type": "code",
   "source": [
    "dat = '''(\n",
    "\t[1, 'hello'],\n",
    "\tTrue\n",
    ")'''"
   ],
   "id": "501b2207937d40f3",
   "outputs": [],
   "execution_count": 2
  },
  {
   "metadata": {
    "ExecuteTime": {
     "end_time": "2025-03-01T22:32:24.190394Z",
     "start_time": "2025-03-01T22:32:24.181934Z"
    }
   },
   "cell_type": "code",
   "source": "eval(compile_restricted(dat, \"<string>\", \"eval\"))",
   "id": "f3b1bacdc519a3aa",
   "outputs": [
    {
     "data": {
      "text/plain": [
       "([1, 'hello'], True)"
      ]
     },
     "execution_count": 9,
     "metadata": {},
     "output_type": "execute_result"
    }
   ],
   "execution_count": 9
  },
  {
   "metadata": {},
   "cell_type": "code",
   "outputs": [],
   "execution_count": null,
   "source": "",
   "id": "87870695f8f1fddf"
  },
  {
   "metadata": {
    "ExecuteTime": {
     "end_time": "2025-03-01T22:33:35.474882Z",
     "start_time": "2025-03-01T22:33:35.468883Z"
    }
   },
   "cell_type": "code",
   "source": [
    "safe_code = \"\"\"\n",
    "def safe_function():\n",
    "    return \"Hello from sandbox!\"\n",
    "result2 = safe_function()\n",
    "\"\"\"\n",
    "\n",
    "# compiled_code = compile_restricted(safe_code, \"<string>\", \"exec\")\n",
    "# exec(compiled_code)"
   ],
   "id": "b418fe8cd643697",
   "outputs": [],
   "execution_count": 15
  },
  {
   "metadata": {
    "ExecuteTime": {
     "end_time": "2025-03-01T22:33:41.724528Z",
     "start_time": "2025-03-01T22:33:41.718860Z"
    }
   },
   "cell_type": "code",
   "source": [
    "compile_restricted(safe_code, \"<string>\", \"exec\")\n",
    "result2"
   ],
   "id": "8cbaee967cf7e8c1",
   "outputs": [
    {
     "data": {
      "text/plain": [
       "'Hello from sandbox!'"
      ]
     },
     "execution_count": 17,
     "metadata": {},
     "output_type": "execute_result"
    }
   ],
   "execution_count": 17
  },
  {
   "metadata": {},
   "cell_type": "code",
   "outputs": [],
   "execution_count": null,
   "source": "",
   "id": "ad0e15b3bea89709"
  },
  {
   "cell_type": "code",
   "execution_count": null,
   "id": "initial_id",
   "metadata": {
    "collapsed": true
   },
   "outputs": [],
   "source": [
    ""
   ]
  }
 ],
 "metadata": {
  "kernelspec": {
   "display_name": "Python 3",
   "language": "python",
   "name": "python3"
  },
  "language_info": {
   "codemirror_mode": {
    "name": "ipython",
    "version": 2
   },
   "file_extension": ".py",
   "mimetype": "text/x-python",
   "name": "python",
   "nbconvert_exporter": "python",
   "pygments_lexer": "ipython2",
   "version": "2.7.6"
  }
 },
 "nbformat": 4,
 "nbformat_minor": 5
}
