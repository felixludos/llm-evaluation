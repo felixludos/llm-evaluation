{
 "cells": [
  {
   "cell_type": "code",
   "execution_count": 5,
   "id": "initial_id",
   "metadata": {
    "collapsed": true,
    "ExecuteTime": {
     "end_time": "2024-03-14T16:26:55.399518Z",
     "start_time": "2024-03-14T16:26:55.396508Z"
    }
   },
   "outputs": [],
   "source": [
    "from pathlib import Path\n",
    "import time, humanize\n",
    "import omnifig as fig\n",
    "import torch\n",
    "import random\n",
    "fig.initialize()\n",
    "fig.get_current_project().register_config_dir(Path('../job-config'));"
   ]
  },
  {
   "cell_type": "code",
   "outputs": [
    {
     "data": {
      "text/plain": "7473"
     },
     "execution_count": 7,
     "metadata": {},
     "output_type": "execute_result"
    }
   ],
   "source": [
    "dest_root = Path('../benchmarks')\n",
    "src_root = Path('../extra')\n",
    "dev_path = dest_root / 'dev.jsonl'\n",
    "eval_path = dest_root / 'eval.jsonl'\n",
    "src_path = src_root / 'train.jsonl'\n",
    "assert src_path.exists(), src_path\n",
    "N_dev = 1000\n",
    "N_eval = 100\n",
    "\n",
    "samples = src_path.read_text().strip().split('\\n')\n",
    "assert len(samples) > N_dev + N_eval, f'Not enough samples: {len(samples)}'\n",
    "len(samples)"
   ],
   "metadata": {
    "collapsed": false,
    "ExecuteTime": {
     "end_time": "2024-03-14T16:28:26.244249Z",
     "start_time": "2024-03-14T16:28:26.222648Z"
    }
   },
   "id": "1ecdfba3f37f7cd5",
   "execution_count": 7
  },
  {
   "cell_type": "code",
   "outputs": [],
   "source": [
    "random.seed(7427466391)\n",
    "sel = random.sample(samples, N_dev+N_eval)\n",
    "dev_samples = sel[:N_dev]\n",
    "eval_samples = sel[N_dev:]\n",
    "dev_path.write_text('\\n'.join(dev_samples))\n",
    "eval_path.write_text('\\n'.join(eval_samples));"
   ],
   "metadata": {
    "collapsed": false,
    "ExecuteTime": {
     "end_time": "2024-03-14T16:35:54.936128Z",
     "start_time": "2024-03-14T16:35:54.932457Z"
    }
   },
   "id": "95d62d0b6121d94c",
   "execution_count": 12
  },
  {
   "cell_type": "code",
   "outputs": [],
   "source": [],
   "metadata": {
    "collapsed": false,
    "ExecuteTime": {
     "end_time": "2024-03-14T16:23:26.736401Z",
     "start_time": "2024-03-14T16:23:26.735116Z"
    }
   },
   "id": "10bfc08c21fe9e14",
   "execution_count": 1
  },
  {
   "cell_type": "code",
   "outputs": [],
   "source": [],
   "metadata": {
    "collapsed": false
   },
   "id": "163a80345b036efb"
  },
  {
   "cell_type": "code",
   "outputs": [],
   "source": [],
   "metadata": {
    "collapsed": false
   },
   "id": "69969d94b8cd5e44"
  },
  {
   "cell_type": "code",
   "outputs": [],
   "source": [],
   "metadata": {
    "collapsed": false
   },
   "id": "2df4bb3d3d94d7f9"
  },
  {
   "cell_type": "code",
   "outputs": [],
   "source": [],
   "metadata": {
    "collapsed": false,
    "ExecuteTime": {
     "end_time": "2024-03-14T16:23:26.738276Z",
     "start_time": "2024-03-14T16:23:26.736985Z"
    }
   },
   "id": "5793dfb46de1f091",
   "execution_count": 1
  },
  {
   "cell_type": "code",
   "outputs": [],
   "source": [],
   "metadata": {
    "collapsed": false
   },
   "id": "2e7ed0b747df32be"
  }
 ],
 "metadata": {
  "kernelspec": {
   "display_name": "Python 3",
   "language": "python",
   "name": "python3"
  },
  "language_info": {
   "codemirror_mode": {
    "name": "ipython",
    "version": 2
   },
   "file_extension": ".py",
   "mimetype": "text/x-python",
   "name": "python",
   "nbconvert_exporter": "python",
   "pygments_lexer": "ipython2",
   "version": "2.7.6"
  }
 },
 "nbformat": 4,
 "nbformat_minor": 5
}
