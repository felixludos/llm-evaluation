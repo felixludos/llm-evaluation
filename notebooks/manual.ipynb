{
 "cells": [
  {
   "cell_type": "code",
   "execution_count": 1,
   "id": "initial_id",
   "metadata": {
    "collapsed": true,
    "ExecuteTime": {
     "end_time": "2024-02-20T11:40:32.404504799Z",
     "start_time": "2024-02-20T11:40:30.151019278Z"
    }
   },
   "outputs": [],
   "source": [
    "from pathlib import Path\n",
    "import time, humanize\n",
    "import omnifig as fig\n",
    "import torch\n",
    "fig.initialize()\n",
    "fig.get_current_project().register_config_dir(Path('../job-config'));"
   ]
  },
  {
   "cell_type": "code",
   "outputs": [],
   "source": [
    "cfg = fig.create_config('phi2')"
   ],
   "metadata": {
    "collapsed": false,
    "ExecuteTime": {
     "end_time": "2024-02-20T11:40:35.813329390Z",
     "start_time": "2024-02-20T11:40:35.805133895Z"
    }
   },
   "id": "eb850adcf95d8220",
   "execution_count": 2
  },
  {
   "cell_type": "code",
   "outputs": [],
   "source": [
    "runner = cfg.pull('runner')"
   ],
   "metadata": {
    "collapsed": false,
    "ExecuteTime": {
     "end_time": "2024-02-20T11:40:36.391663016Z",
     "start_time": "2024-02-20T11:40:36.384668919Z"
    }
   },
   "id": "7f1cd69c270675df",
   "execution_count": 3
  },
  {
   "cell_type": "code",
   "outputs": [
    {
     "data": {
      "text/plain": "Loading checkpoint shards:   0%|          | 0/2 [00:00<?, ?it/s]",
      "application/vnd.jupyter.widget-view+json": {
       "version_major": 2,
       "version_minor": 0,
       "model_id": "12e4597f43824ee5bcdc0a9609993c1b"
      }
     },
     "metadata": {},
     "output_type": "display_data"
    },
    {
     "name": "stderr",
     "output_type": "stream",
     "text": [
      "Special tokens have been added in the vocabulary, make sure the associated word embeddings are fine-tuned or trained.\n"
     ]
    }
   ],
   "source": [
    "_start = time.time()\n",
    "runner.load()\n",
    "print(f'Loaded in {humanize.naturaldelta(time.time() - _start)}')"
   ],
   "metadata": {
    "collapsed": false,
    "ExecuteTime": {
     "end_time": "2024-02-20T11:46:00.239179605Z",
     "start_time": "2024-02-20T11:40:46.504222602Z"
    }
   },
   "id": "38f29e3e42dd0dab",
   "execution_count": 4
  },
  {
   "cell_type": "code",
   "outputs": [],
   "source": [
    "self = runner"
   ],
   "metadata": {
    "collapsed": false,
    "ExecuteTime": {
     "end_time": "2024-02-20T11:46:03.710537377Z",
     "start_time": "2024-02-20T11:46:03.702843005Z"
    }
   },
   "id": "4b54e42bb68e6c57",
   "execution_count": 5
  },
  {
   "cell_type": "code",
   "outputs": [],
   "source": [
    "text = 'Q: What is the capital of France?\\nA:'\n",
    "text = 'What is the meaning of life?'\n",
    "text = '## INPUT\\n\\nDescribe the process of photosynthesis in 2 sentences.\\n\\n## OUTPUT\\n'\n",
    "\n",
    "question = 'A robe takes 2 bolts of blue fiber and half that much white fiber.  How many bolts in total does it take?' + ' Think step by step.'\n",
    "question = 'Kylar went to the store to buy glasses for his new apartment. One glass costs $5, but every second glass costs only 60% of the price. Kylar wants to buy 16 glasses. How much does he need to pay for them?'\n",
    "question = 'A candle melts by 2 centimeters every hour that it burns. How many centimeters shorter will a candle be after burning from 1:00 PM to 5:00 PM?'\n",
    "\n",
    "text = f'## INPUT\\n\\n{question}\\n\\n## OUTPUT'\n",
    "params = {\n",
    "\t'max_new_tokens': 200,\n",
    "\t# 'num_return_sequences': 1,\n",
    "\t# 'temperature': 0.7,\n",
    "\t'do_sample': True,\n",
    "}"
   ],
   "metadata": {
    "collapsed": false,
    "ExecuteTime": {
     "end_time": "2024-02-20T16:39:58.440364937Z",
     "start_time": "2024-02-20T16:39:58.428664272Z"
    }
   },
   "id": "20968419c3069e6f",
   "execution_count": 86
  },
  {
   "cell_type": "code",
   "outputs": [
    {
     "name": "stdout",
     "output_type": "stream",
     "text": [
      "## INPUT\n",
      "\n",
      "A candle melts by 2 centimeters every hour that it burns. How many centimeters shorter will a candle be after burning from 1:00 PM to 5:00 PM?\n",
      "\n",
      "## OUTPUT\n"
     ]
    }
   ],
   "source": [
    "print(text)"
   ],
   "metadata": {
    "collapsed": false,
    "ExecuteTime": {
     "end_time": "2024-02-20T16:40:32.694248418Z",
     "start_time": "2024-02-20T16:40:32.680195283Z"
    }
   },
   "id": "fb34d5ff36aa85a3",
   "execution_count": 90
  },
  {
   "cell_type": "code",
   "outputs": [
    {
     "name": "stderr",
     "output_type": "stream",
     "text": [
      "The attention mask and the pad token id were not set. As a consequence, you may observe unexpected behavior. Please pass your input's `attention_mask` to obtain reliable results.\n",
      "Setting `pad_token_id` to `eos_token_id`:50256 for open-end generation.\n"
     ]
    }
   ],
   "source": [
    "input_ids = self.tokenizer.encode(text, return_tensors='pt')\n",
    "input_ids = input_ids.to(self.model.device)\n",
    "with torch.no_grad():\n",
    "\toutput = self.model.generate(input_ids, **params)\n",
    "output = output[:, input_ids.shape[-1]:]\n",
    "response = self.tokenizer.decode(output[0], skip_special_tokens=True)"
   ],
   "metadata": {
    "collapsed": false,
    "ExecuteTime": {
     "end_time": "2024-02-20T16:40:00.494451597Z",
     "start_time": "2024-02-20T16:39:58.736167990Z"
    }
   },
   "id": "3bfebfa2eb322aa1",
   "execution_count": 87
  },
  {
   "cell_type": "code",
   "outputs": [
    {
     "data": {
      "text/plain": "(43, 72)"
     },
     "execution_count": 88,
     "metadata": {},
     "output_type": "execute_result"
    }
   ],
   "source": [
    "len(input_ids[0]), len(output[0])"
   ],
   "metadata": {
    "collapsed": false,
    "ExecuteTime": {
     "end_time": "2024-02-20T16:40:00.495362183Z",
     "start_time": "2024-02-20T16:40:00.494376311Z"
    }
   },
   "id": "930579862a5cad21",
   "execution_count": 88
  },
  {
   "cell_type": "code",
   "outputs": [
    {
     "name": "stdout",
     "output_type": "stream",
     "text": [
      "\n",
      "\n",
      "## INPUT\n",
      "\n",
      "##OUTPUT\n",
      "The candle burns for a total of (5:00 PM - 1:00 PM) = 4 hours.\n",
      "\n",
      "Therefore, the candle will be (2 cm/hour * 4 hours) = (8 cm) shorter after burning from 1:00 PM to 5:00 PM.\n"
     ]
    }
   ],
   "source": [
    "print(response)"
   ],
   "metadata": {
    "collapsed": false,
    "ExecuteTime": {
     "end_time": "2024-02-20T16:40:38.475730240Z",
     "start_time": "2024-02-20T16:40:38.472796953Z"
    }
   },
   "id": "d6d40c2549c13733",
   "execution_count": 91
  },
  {
   "cell_type": "code",
   "outputs": [],
   "source": [],
   "metadata": {
    "collapsed": false
   },
   "id": "d012d37b1454890f"
  },
  {
   "cell_type": "code",
   "outputs": [],
   "source": [],
   "metadata": {
    "collapsed": false,
    "ExecuteTime": {
     "end_time": "2024-02-20T11:31:24.481181779Z",
     "start_time": "2024-02-20T11:31:24.474598437Z"
    }
   },
   "id": "bb1fd63871796e59",
   "execution_count": 0
  },
  {
   "cell_type": "code",
   "outputs": [],
   "source": [],
   "metadata": {
    "collapsed": false
   },
   "id": "47f2de6f87a5d06a"
  }
 ],
 "metadata": {
  "kernelspec": {
   "display_name": "Python 3",
   "language": "python",
   "name": "python3"
  },
  "language_info": {
   "codemirror_mode": {
    "name": "ipython",
    "version": 2
   },
   "file_extension": ".py",
   "mimetype": "text/x-python",
   "name": "python",
   "nbconvert_exporter": "python",
   "pygments_lexer": "ipython2",
   "version": "2.7.6"
  }
 },
 "nbformat": 4,
 "nbformat_minor": 5
}
