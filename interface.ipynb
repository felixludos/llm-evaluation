{
 "cells": [
  {
   "cell_type": "code",
   "execution_count": 1,
   "id": "initial_id",
   "metadata": {
    "collapsed": true,
    "ExecuteTime": {
     "end_time": "2024-01-18T22:06:59.071152100Z",
     "start_time": "2024-01-18T22:06:58.993072300Z"
    }
   },
   "outputs": [],
   "source": [
    "import requests"
   ]
  },
  {
   "cell_type": "code",
   "outputs": [],
   "source": [
    "base_url = 'http://localhost:8000'"
   ],
   "metadata": {
    "collapsed": false,
    "ExecuteTime": {
     "end_time": "2024-01-18T23:21:47.464193100Z",
     "start_time": "2024-01-18T23:21:47.457138700Z"
    }
   },
   "id": "8af7fe2d0c3b9c7",
   "execution_count": 22
  },
  {
   "cell_type": "code",
   "outputs": [
    {
     "data": {
      "text/plain": "{'detail': 'Not Found'}"
     },
     "execution_count": 23,
     "metadata": {},
     "output_type": "execute_result"
    }
   ],
   "source": [
    "response = requests.get(f'{base_url}/ping')\n",
    "response.json()"
   ],
   "metadata": {
    "collapsed": false,
    "ExecuteTime": {
     "end_time": "2024-01-18T23:21:48.151608Z",
     "start_time": "2024-01-18T23:21:48.141508800Z"
    }
   },
   "id": "be4a4b1134f8720c",
   "execution_count": 23
  },
  {
   "cell_type": "code",
   "outputs": [
    {
     "data": {
      "text/plain": "{'detail': 'Not Found'}"
     },
     "execution_count": 21,
     "metadata": {},
     "output_type": "execute_result"
    }
   ],
   "source": [
    "data = {}\n",
    "response = requests.post(f'{base_url}/load', )#json=data)\n",
    "\n",
    "response.json()"
   ],
   "metadata": {
    "collapsed": false,
    "ExecuteTime": {
     "end_time": "2024-01-18T23:16:38.990342300Z",
     "start_time": "2024-01-18T23:16:38.970846700Z"
    }
   },
   "id": "476e996565dbd87c",
   "execution_count": 21
  },
  {
   "cell_type": "code",
   "outputs": [
    {
     "data": {
      "text/plain": "{'detail': [{'type': 'model_attributes_type',\n   'loc': ['body', 'event'],\n   'msg': 'Input should be a valid dictionary or object to extract fields from',\n   'input': 'Bye',\n   'url': 'https://errors.pydantic.dev/2.5/v/model_attributes_type'},\n  {'type': 'missing',\n   'loc': ['body', 'repo'],\n   'msg': 'Field required',\n   'input': {'body': 'test', 'event': 'Bye'},\n   'url': 'https://errors.pydantic.dev/2.5/v/missing'},\n  {'type': 'missing',\n   'loc': ['body', 'webhook'],\n   'msg': 'Field required',\n   'input': {'body': 'test', 'event': 'Bye'},\n   'url': 'https://errors.pydantic.dev/2.5/v/missing'}]}"
     },
     "execution_count": 7,
     "metadata": {},
     "output_type": "execute_result"
    }
   ],
   "source": [
    "res = requests.post(, json={'body': 'test', 'event': 'Bye'})\n",
    "res.json()"
   ],
   "metadata": {
    "collapsed": false,
    "ExecuteTime": {
     "end_time": "2024-01-18T22:08:43.114349500Z",
     "start_time": "2024-01-18T22:08:43.104468400Z"
    }
   },
   "id": "10154aa1f28055b1",
   "execution_count": 7
  },
  {
   "cell_type": "code",
   "outputs": [],
   "source": [],
   "metadata": {
    "collapsed": false,
    "ExecuteTime": {
     "end_time": "2024-01-18T22:06:59.082347800Z",
     "start_time": "2024-01-18T22:06:59.079317100Z"
    }
   },
   "id": "1f43dbc66227b7cc",
   "execution_count": 1
  },
  {
   "cell_type": "code",
   "outputs": [],
   "source": [],
   "metadata": {
    "collapsed": false
   },
   "id": "70b51c98469bebb7"
  }
 ],
 "metadata": {
  "kernelspec": {
   "display_name": "Python 3",
   "language": "python",
   "name": "python3"
  },
  "language_info": {
   "codemirror_mode": {
    "name": "ipython",
    "version": 2
   },
   "file_extension": ".py",
   "mimetype": "text/x-python",
   "name": "python",
   "nbconvert_exporter": "python",
   "pygments_lexer": "ipython2",
   "version": "2.7.6"
  }
 },
 "nbformat": 4,
 "nbformat_minor": 5
}
