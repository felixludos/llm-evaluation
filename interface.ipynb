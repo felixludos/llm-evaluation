{
 "cells": [
  {
   "cell_type": "code",
   "execution_count": 1,
   "id": "initial_id",
   "metadata": {
    "collapsed": true,
    "ExecuteTime": {
     "end_time": "2024-02-18T15:32:34.810727227Z",
     "start_time": "2024-02-18T15:32:34.810192222Z"
    }
   },
   "outputs": [],
   "source": [
    "import requests"
   ]
  },
  {
   "cell_type": "code",
   "execution_count": 26,
   "id": "8af7fe2d0c3b9c7",
   "metadata": {
    "collapsed": false,
    "ExecuteTime": {
     "end_time": "2024-02-19T15:53:32.010352221Z",
     "start_time": "2024-02-19T15:53:31.963413134Z"
    }
   },
   "outputs": [],
   "source": [
    "base_url = 'http://localhost:8000'"
   ]
  },
  {
   "cell_type": "code",
   "execution_count": 27,
   "id": "be4a4b1134f8720c",
   "metadata": {
    "collapsed": false,
    "ExecuteTime": {
     "end_time": "2024-02-19T15:53:33.347254170Z",
     "start_time": "2024-02-19T15:53:33.323615583Z"
    }
   },
   "outputs": [
    {
     "data": {
      "text/plain": "'pong'"
     },
     "execution_count": 27,
     "metadata": {},
     "output_type": "execute_result"
    }
   ],
   "source": [
    "response = requests.get(f'{base_url}/ping')\n",
    "response.json()"
   ]
  },
  {
   "cell_type": "code",
   "outputs": [
    {
     "data": {
      "text/plain": "1"
     },
     "execution_count": 28,
     "metadata": {},
     "output_type": "execute_result"
    }
   ],
   "source": [
    "response = requests.get(f'{base_url}/create?name=phi2')\n",
    "taskid = response.json()\n",
    "taskid"
   ],
   "metadata": {
    "collapsed": false,
    "ExecuteTime": {
     "end_time": "2024-02-19T15:53:34.858813981Z",
     "start_time": "2024-02-19T15:53:34.810541255Z"
    }
   },
   "id": "341f1b045890f285",
   "execution_count": 28
  },
  {
   "cell_type": "code",
   "outputs": [
    {
     "data": {
      "text/plain": "{'is_done': True,\n 'is_running': False,\n 'current_time': '2024-02-19T17:00:52.883045',\n 'start_time': '2024-02-19T16:53:55.263065',\n 'finish_time': '2024-02-19T16:59:53.940282',\n 'started': 417.61998,\n 'started_human': '6 minutes',\n 'finished': 58.942763,\n 'finished_human': '58 seconds',\n 'duration': 358.677217,\n 'duration_human': '5 minutes',\n 'cpu_util': 5.5,\n 'cpu_util_delta': 1.2999999999999998,\n 'ram_available': 50.365638732910156,\n 'ram_used': 2.9439125061035156,\n 'ram_used_since_start': 2.4805030822753906,\n 'gpu_available': 1.29638671875,\n 'gpu_used': 5.373046875,\n 'gpu_util': 5.0,\n 'gpu_used_since_start': 5.373046875}"
     },
     "execution_count": 42,
     "metadata": {},
     "output_type": "execute_result"
    }
   ],
   "source": [
    "response = requests.get(f'{base_url}/status?code={taskid}')\n",
    "response.json()"
   ],
   "metadata": {
    "collapsed": false,
    "ExecuteTime": {
     "end_time": "2024-02-19T16:00:54.910296807Z",
     "start_time": "2024-02-19T16:00:52.882839593Z"
    }
   },
   "id": "8b42ceb170f47e90",
   "execution_count": 42
  },
  {
   "cell_type": "code",
   "outputs": [
    {
     "data": {
      "text/plain": "1"
     },
     "execution_count": 30,
     "metadata": {},
     "output_type": "execute_result"
    }
   ],
   "source": [
    "response = requests.get(f'{base_url}/start?code={taskid}')\n",
    "response.json()"
   ],
   "metadata": {
    "collapsed": false,
    "ExecuteTime": {
     "end_time": "2024-02-19T15:53:53.278882566Z",
     "start_time": "2024-02-19T15:53:53.245865656Z"
    }
   },
   "id": "f12c7e24265f226e",
   "execution_count": 30
  },
  {
   "cell_type": "code",
   "outputs": [],
   "source": [],
   "metadata": {
    "collapsed": false
   },
   "id": "ef657c31381df42b"
  },
  {
   "cell_type": "code",
   "execution_count": 5,
   "id": "476e996565dbd87c",
   "metadata": {
    "collapsed": false,
    "ExecuteTime": {
     "end_time": "2024-02-15T13:00:41.095287517Z",
     "start_time": "2024-02-15T12:56:42.432959375Z"
    }
   },
   "outputs": [
    {
     "data": {
      "text/plain": "{'model_id': 'microsoft/phi-2', 'status': 'loaded'}"
     },
     "execution_count": 5,
     "metadata": {},
     "output_type": "execute_result"
    }
   ],
   "source": [
    "data = {\n",
    "\t'name': 'microsoft/phi-2',\n",
    "\t'model_args': {\n",
    "\t\t'torch_dtype': \"auto\", \n",
    "\t\t'trust_remote_code': True,\n",
    "\t},\n",
    "\n",
    "}\n",
    "response = requests.post(f'{base_url}/load', json=data)\n",
    "response.json()"
   ]
  },
  {
   "cell_type": "code",
   "execution_count": null,
   "id": "f9bf1d0b548fbafa",
   "metadata": {
    "collapsed": false
   },
   "outputs": [],
   "source": []
  },
  {
   "cell_type": "code",
   "outputs": [],
   "source": [],
   "metadata": {
    "collapsed": false
   },
   "id": "6e64e59101989a83"
  },
  {
   "cell_type": "code",
   "outputs": [],
   "source": [
    "from huggingface_hub import scan_cache_dir"
   ],
   "metadata": {
    "collapsed": false,
    "ExecuteTime": {
     "end_time": "2024-02-15T12:35:29.751278458Z",
     "start_time": "2024-02-15T12:35:29.674970876Z"
    }
   },
   "id": "69353164c1458fe6",
   "execution_count": 5
  },
  {
   "cell_type": "code",
   "execution_count": 6,
   "id": "21d722813231a874",
   "metadata": {
    "collapsed": false,
    "ExecuteTime": {
     "end_time": "2024-02-15T12:35:40.992490159Z",
     "start_time": "2024-02-15T12:35:37.059774666Z"
    }
   },
   "outputs": [],
   "source": [
    "hf_cache_info = scan_cache_dir()"
   ]
  },
  {
   "cell_type": "code",
   "execution_count": null,
   "id": "734e9c477f75d5d3",
   "metadata": {
    "collapsed": false
   },
   "outputs": [],
   "source": []
  },
  {
   "cell_type": "code",
   "execution_count": 7,
   "id": "10154aa1f28055b1",
   "metadata": {
    "ExecuteTime": {
     "end_time": "2024-01-18T22:08:43.114349500Z",
     "start_time": "2024-01-18T22:08:43.104468400Z"
    },
    "collapsed": false
   },
   "outputs": [
    {
     "data": {
      "text/plain": [
       "{'detail': [{'type': 'model_attributes_type',\n",
       "   'loc': ['body', 'event'],\n",
       "   'msg': 'Input should be a valid dictionary or object to extract fields from',\n",
       "   'input': 'Bye',\n",
       "   'url': 'https://errors.pydantic.dev/2.5/v/model_attributes_type'},\n",
       "  {'type': 'missing',\n",
       "   'loc': ['body', 'repo'],\n",
       "   'msg': 'Field required',\n",
       "   'input': {'body': 'test', 'event': 'Bye'},\n",
       "   'url': 'https://errors.pydantic.dev/2.5/v/missing'},\n",
       "  {'type': 'missing',\n",
       "   'loc': ['body', 'webhook'],\n",
       "   'msg': 'Field required',\n",
       "   'input': {'body': 'test', 'event': 'Bye'},\n",
       "   'url': 'https://errors.pydantic.dev/2.5/v/missing'}]}"
      ]
     },
     "execution_count": 7,
     "metadata": {},
     "output_type": "execute_result"
    }
   ],
   "source": [
    "res = requests.post(, json={'body': 'test', 'event': 'Bye'})\n",
    "res.json()"
   ]
  },
  {
   "cell_type": "code",
   "execution_count": 1,
   "id": "1f43dbc66227b7cc",
   "metadata": {
    "ExecuteTime": {
     "end_time": "2024-01-18T22:06:59.082347800Z",
     "start_time": "2024-01-18T22:06:59.079317100Z"
    },
    "collapsed": false
   },
   "outputs": [],
   "source": []
  },
  {
   "cell_type": "code",
   "execution_count": null,
   "id": "70b51c98469bebb7",
   "metadata": {
    "collapsed": false
   },
   "outputs": [],
   "source": []
  }
 ],
 "metadata": {
  "kernelspec": {
   "display_name": "Python 3",
   "language": "python",
   "name": "python3"
  },
  "language_info": {
   "codemirror_mode": {
    "name": "ipython",
    "version": 3
   },
   "file_extension": ".py",
   "mimetype": "text/x-python",
   "name": "python",
   "nbconvert_exporter": "python",
   "pygments_lexer": "ipython3",
   "version": "3.11.5"
  }
 },
 "nbformat": 4,
 "nbformat_minor": 5
}
