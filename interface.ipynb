{
 "cells": [
  {
   "cell_type": "code",
   "execution_count": 1,
   "id": "initial_id",
   "metadata": {
    "collapsed": true,
    "ExecuteTime": {
     "end_time": "2024-02-18T15:32:34.810727227Z",
     "start_time": "2024-02-18T15:32:34.810192222Z"
    }
   },
   "outputs": [],
   "source": [
    "import requests"
   ]
  },
  {
   "cell_type": "code",
   "execution_count": 2,
   "id": "8af7fe2d0c3b9c7",
   "metadata": {
    "collapsed": false,
    "ExecuteTime": {
     "end_time": "2024-02-18T15:32:35.213906853Z",
     "start_time": "2024-02-18T15:32:35.162685761Z"
    }
   },
   "outputs": [],
   "source": [
    "base_url = 'http://localhost:8000'"
   ]
  },
  {
   "cell_type": "code",
   "execution_count": 3,
   "id": "be4a4b1134f8720c",
   "metadata": {
    "collapsed": false,
    "ExecuteTime": {
     "end_time": "2024-02-18T15:32:35.575970407Z",
     "start_time": "2024-02-18T15:32:35.568735937Z"
    }
   },
   "outputs": [
    {
     "data": {
      "text/plain": "'pong'"
     },
     "execution_count": 3,
     "metadata": {},
     "output_type": "execute_result"
    }
   ],
   "source": [
    "response = requests.get(f'{base_url}/ping')\n",
    "response.json()"
   ]
  },
  {
   "cell_type": "code",
   "outputs": [
    {
     "data": {
      "text/plain": "'started test'"
     },
     "execution_count": 60,
     "metadata": {},
     "output_type": "execute_result"
    }
   ],
   "source": [
    "response = requests.get(f'{base_url}/starting_task?ident=test')\n",
    "response.json()"
   ],
   "metadata": {
    "collapsed": false,
    "ExecuteTime": {
     "end_time": "2024-02-16T13:39:04.114583689Z",
     "start_time": "2024-02-16T13:39:04.108834453Z"
    }
   },
   "id": "341f1b045890f285",
   "execution_count": 60
  },
  {
   "cell_type": "code",
   "outputs": [
    {
     "data": {
      "text/plain": "{'task': None, 'model': True, 'tok': True, 'is_done': False}"
     },
     "execution_count": 64,
     "metadata": {},
     "output_type": "execute_result"
    }
   ],
   "source": [
    "response = requests.get(f'{base_url}/progress')\n",
    "response.json()"
   ],
   "metadata": {
    "collapsed": false,
    "ExecuteTime": {
     "end_time": "2024-02-16T13:40:36.287282548Z",
     "start_time": "2024-02-16T13:40:36.282920793Z"
    }
   },
   "id": "8b42ceb170f47e90",
   "execution_count": 64
  },
  {
   "cell_type": "code",
   "outputs": [
    {
     "data": {
      "text/plain": "{'task': 'test', 'result': None}"
     },
     "execution_count": 48,
     "metadata": {},
     "output_type": "execute_result"
    }
   ],
   "source": [
    "response = requests.get(f'{base_url}/result')\n",
    "response.json()"
   ],
   "metadata": {
    "collapsed": false,
    "ExecuteTime": {
     "end_time": "2024-02-15T17:46:53.946612807Z",
     "start_time": "2024-02-15T17:46:53.904519760Z"
    }
   },
   "id": "f12c7e24265f226e",
   "execution_count": 48
  },
  {
   "cell_type": "code",
   "outputs": [],
   "source": [],
   "metadata": {
    "collapsed": false
   },
   "id": "ef657c31381df42b"
  },
  {
   "cell_type": "code",
   "execution_count": 5,
   "id": "476e996565dbd87c",
   "metadata": {
    "collapsed": false,
    "ExecuteTime": {
     "end_time": "2024-02-15T13:00:41.095287517Z",
     "start_time": "2024-02-15T12:56:42.432959375Z"
    }
   },
   "outputs": [
    {
     "data": {
      "text/plain": "{'model_id': 'microsoft/phi-2', 'status': 'loaded'}"
     },
     "execution_count": 5,
     "metadata": {},
     "output_type": "execute_result"
    }
   ],
   "source": [
    "data = {\n",
    "\t'name': 'microsoft/phi-2',\n",
    "\t'model_args': {\n",
    "\t\t'torch_dtype': \"auto\", \n",
    "\t\t'trust_remote_code': True,\n",
    "\t},\n",
    "\n",
    "}\n",
    "response = requests.post(f'{base_url}/load', json=data)\n",
    "response.json()"
   ]
  },
  {
   "cell_type": "code",
   "execution_count": null,
   "id": "f9bf1d0b548fbafa",
   "metadata": {
    "collapsed": false
   },
   "outputs": [],
   "source": []
  },
  {
   "cell_type": "code",
   "outputs": [],
   "source": [],
   "metadata": {
    "collapsed": false
   },
   "id": "6e64e59101989a83"
  },
  {
   "cell_type": "code",
   "outputs": [],
   "source": [
    "from huggingface_hub import scan_cache_dir"
   ],
   "metadata": {
    "collapsed": false,
    "ExecuteTime": {
     "end_time": "2024-02-15T12:35:29.751278458Z",
     "start_time": "2024-02-15T12:35:29.674970876Z"
    }
   },
   "id": "69353164c1458fe6",
   "execution_count": 5
  },
  {
   "cell_type": "code",
   "execution_count": 6,
   "id": "21d722813231a874",
   "metadata": {
    "collapsed": false,
    "ExecuteTime": {
     "end_time": "2024-02-15T12:35:40.992490159Z",
     "start_time": "2024-02-15T12:35:37.059774666Z"
    }
   },
   "outputs": [],
   "source": [
    "hf_cache_info = scan_cache_dir()"
   ]
  },
  {
   "cell_type": "code",
   "execution_count": null,
   "id": "734e9c477f75d5d3",
   "metadata": {
    "collapsed": false
   },
   "outputs": [],
   "source": []
  },
  {
   "cell_type": "code",
   "execution_count": 7,
   "id": "10154aa1f28055b1",
   "metadata": {
    "ExecuteTime": {
     "end_time": "2024-01-18T22:08:43.114349500Z",
     "start_time": "2024-01-18T22:08:43.104468400Z"
    },
    "collapsed": false
   },
   "outputs": [
    {
     "data": {
      "text/plain": [
       "{'detail': [{'type': 'model_attributes_type',\n",
       "   'loc': ['body', 'event'],\n",
       "   'msg': 'Input should be a valid dictionary or object to extract fields from',\n",
       "   'input': 'Bye',\n",
       "   'url': 'https://errors.pydantic.dev/2.5/v/model_attributes_type'},\n",
       "  {'type': 'missing',\n",
       "   'loc': ['body', 'repo'],\n",
       "   'msg': 'Field required',\n",
       "   'input': {'body': 'test', 'event': 'Bye'},\n",
       "   'url': 'https://errors.pydantic.dev/2.5/v/missing'},\n",
       "  {'type': 'missing',\n",
       "   'loc': ['body', 'webhook'],\n",
       "   'msg': 'Field required',\n",
       "   'input': {'body': 'test', 'event': 'Bye'},\n",
       "   'url': 'https://errors.pydantic.dev/2.5/v/missing'}]}"
      ]
     },
     "execution_count": 7,
     "metadata": {},
     "output_type": "execute_result"
    }
   ],
   "source": [
    "res = requests.post(, json={'body': 'test', 'event': 'Bye'})\n",
    "res.json()"
   ]
  },
  {
   "cell_type": "code",
   "execution_count": 1,
   "id": "1f43dbc66227b7cc",
   "metadata": {
    "ExecuteTime": {
     "end_time": "2024-01-18T22:06:59.082347800Z",
     "start_time": "2024-01-18T22:06:59.079317100Z"
    },
    "collapsed": false
   },
   "outputs": [],
   "source": []
  },
  {
   "cell_type": "code",
   "execution_count": null,
   "id": "70b51c98469bebb7",
   "metadata": {
    "collapsed": false
   },
   "outputs": [],
   "source": []
  }
 ],
 "metadata": {
  "kernelspec": {
   "display_name": "Python 3",
   "language": "python",
   "name": "python3"
  },
  "language_info": {
   "codemirror_mode": {
    "name": "ipython",
    "version": 3
   },
   "file_extension": ".py",
   "mimetype": "text/x-python",
   "name": "python",
   "nbconvert_exporter": "python",
   "pygments_lexer": "ipython3",
   "version": "3.11.5"
  }
 },
 "nbformat": 4,
 "nbformat_minor": 5
}
